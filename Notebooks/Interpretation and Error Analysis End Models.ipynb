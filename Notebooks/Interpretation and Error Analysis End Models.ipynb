{
 "cells": [
  {
   "cell_type": "code",
   "execution_count": 27,
   "id": "30ac5985",
   "metadata": {},
   "outputs": [],
   "source": [
    "import pandas as pd\n",
    "from sklearn.model_selection import train_test_split"
   ]
  },
  {
   "cell_type": "code",
   "execution_count": 28,
   "id": "77dbe3c1",
   "metadata": {},
   "outputs": [],
   "source": [
    "test_preds = pd.read_csv('C:/Users/dschw/Documents/GitHub/Thesis/Experiments/End_Model_Performances/3_Threshold_Probability/End_Models/BERT_-_preds.csv')"
   ]
  },
  {
   "cell_type": "code",
   "execution_count": 29,
   "id": "5d4fc63c",
   "metadata": {},
   "outputs": [],
   "source": [
    "y_true=test_preds.Y_test\n",
    "y_pred=test_preds.Y_pred"
   ]
  },
  {
   "cell_type": "markdown",
   "id": "ab7c0cf9",
   "metadata": {},
   "source": [
    "## Plot confusion matrices - Test Set"
   ]
  },
  {
   "cell_type": "markdown",
   "id": "33eee2bc",
   "metadata": {},
   "source": [
    "### Overall"
   ]
  },
  {
   "cell_type": "code",
   "execution_count": 30,
   "id": "2055f541",
   "metadata": {},
   "outputs": [],
   "source": [
    "from sklearn.metrics import confusion_matrix, plot_confusion_matrix, classification_report\n",
    "import matplotlib.pyplot as plt\n",
    "import numpy as np\n",
    "import pylab as pldata"
   ]
  },
  {
   "cell_type": "code",
   "execution_count": 31,
   "id": "4a0779f2",
   "metadata": {},
   "outputs": [],
   "source": [
    "cm = confusion_matrix(y_true, y_pred)\n",
    "display_labels = [0,1]"
   ]
  },
  {
   "cell_type": "code",
   "execution_count": 32,
   "id": "55fb609f",
   "metadata": {},
   "outputs": [
    {
     "name": "stdout",
     "output_type": "stream",
     "text": [
      "              precision    recall  f1-score   support\n",
      "\n",
      "         0.0       0.83      0.28      0.42       472\n",
      "         1.0       0.36      0.88      0.51       220\n",
      "\n",
      "    accuracy                           0.47       692\n",
      "   macro avg       0.60      0.58      0.47       692\n",
      "weighted avg       0.68      0.47      0.45       692\n",
      "\n"
     ]
    }
   ],
   "source": [
    "print(classification_report(y_true, y_pred))"
   ]
  },
  {
   "cell_type": "code",
   "execution_count": 36,
   "id": "7471250d",
   "metadata": {},
   "outputs": [
    {
     "data": {
      "image/png": "[encoded data removed]",
      "text/plain": [
       "<Figure size 432x288 with 2 Axes>"
      ]
     },
     "metadata": {
      "needs_background": "light"
     },
     "output_type": "display_data"
    }
   ],
   "source": [
    "import seaborn as sns\n",
    "import matplotlib.pyplot as plt  \n",
    "\n",
    "ax= plt.subplot()\n",
    "sns.heatmap(cm, annot=True, fmt='g', ax=ax);  #annot=True to annotate cells, ftm='g' to disable scientific notation\n",
    "\n",
    "# labels, title and ticks\n",
    "ax.set_xlabel('Predicted labels');ax.set_ylabel('True labels'); \n",
    "ax.set_title('Confusion Matrix'); \n",
    "ax.xaxis.set_ticklabels(['non-populist', 'populist']); ax.yaxis.set_ticklabels(['non-populist', 'populist']);\n",
    "plt.savefig('images/cm_end_model_gbert_occ_all.png')"
   ]
  },
  {
   "cell_type": "code",
   "execution_count": 34,
   "id": "2ba66f50",
   "metadata": {},
   "outputs": [
    {
     "data": {
      "text/plain": [
       "472"
      ]
     },
     "execution_count": 34,
     "metadata": {},
     "output_type": "execute_result"
    }
   ],
   "source": [
    "len(test_preds.loc[test_preds['Y_test'] == 0])"
   ]
  },
  {
   "cell_type": "markdown",
   "id": "384f44dc",
   "metadata": {},
   "source": [
    "### Per Text Category"
   ]
  },
  {
   "cell_type": "code",
   "execution_count": 9,
   "id": "2f1decaa",
   "metadata": {},
   "outputs": [
    {
     "data": {
      "text/plain": [
       "array(['PressRelease', 'Past_PartyMan', 'PartyMan', 'SocialMedia'],\n",
       "      dtype=object)"
      ]
     },
     "execution_count": 9,
     "metadata": {},
     "output_type": "execute_result"
    }
   ],
   "source": [
    "test_preds.Category.unique()"
   ]
  },
  {
   "cell_type": "code",
   "execution_count": 10,
   "id": "fba2f417",
   "metadata": {},
   "outputs": [],
   "source": [
    "test_preds_PRESS = test_preds.loc[test_preds['Category'] == 'PressRelease']\n",
    "test_preds_PAST_PARTYMAN = test_preds.loc[test_preds['Category'] == 'Past_PartyMan']\n",
    "test_preds_PARTYMAN =  test_preds.loc[test_preds['Category'] == 'PartyMan']\n",
    "test_preds_SOCIALMEDIA = test_preds.loc[test_preds['Category'] == 'SocialMedia']"
   ]
  },
  {
   "cell_type": "code",
   "execution_count": 16,
   "id": "9f2d931f",
   "metadata": {},
   "outputs": [],
   "source": [
    "def plot_cm(df, name):\n",
    "    \n",
    "    y_true = df.Y_test\n",
    "    y_pred = df.Y_pred\n",
    "    \n",
    "    cm = confusion_matrix(y_true, y_pred)\n",
    "    # Normalised\n",
    "    cmn = cm.astype('float') / cm.sum(axis=1)[:, np.newaxis]\n",
    "    \n",
    "    ax= plt.subplot()\n",
    "    sns.heatmap(cmn, annot=True, fmt='g', ax=ax);  #annot=True to annotate cells, ftm='g' to disable scientific notation\n",
    "\n",
    "    # labels, title and ticks\n",
    "    ax.set_xlabel('Predicted labels');ax.set_ylabel('True labels');\n",
    "    ax.set_title('Confusion Matrix '+ name); \n",
    "    ax.xaxis.set_ticklabels(['non-populist', 'populist']); ax.yaxis.set_ticklabels(['non-populist', 'populist']);\n",
    "    plt.savefig('images/cm_end_model_rf_cat_' + name + '.png')"
   ]
  },
  {
   "cell_type": "code",
   "execution_count": 17,
   "id": "e70aa0c0",
   "metadata": {},
   "outputs": [
    {
     "data": {
      "image/png": "[encoded data removed]",
      "text/plain": [
       "<Figure size 432x288 with 2 Axes>"
      ]
     },
     "metadata": {
      "needs_background": "light"
     },
     "output_type": "display_data"
    }
   ],
   "source": [
    "plot_cm(test_preds_PRESS, 'Press-Release')"
   ]
  },
  {
   "cell_type": "code",
   "execution_count": 18,
   "id": "a6e22f7f",
   "metadata": {},
   "outputs": [
    {
     "data": {
      "image/png": "[encoded data removed]",
      "text/plain": [
       "<Figure size 432x288 with 2 Axes>"
      ]
     },
     "metadata": {
      "needs_background": "light"
     },
     "output_type": "display_data"
    }
   ],
   "source": [
    "plot_cm(test_preds_PAST_PARTYMAN, 'Past-Party-Manifesto')"
   ]
  },
  {
   "cell_type": "code",
   "execution_count": 19,
   "id": "07ba1258",
   "metadata": {},
   "outputs": [
    {
     "data": {
      "image/png": "[encoded data removed]",
      "text/plain": [
       "<Figure size 432x288 with 2 Axes>"
      ]
     },
     "metadata": {
      "needs_background": "light"
     },
     "output_type": "display_data"
    }
   ],
   "source": [
    "plot_cm(test_preds_PARTYMAN, 'Party-Manifesto')"
   ]
  },
  {
   "cell_type": "code",
   "execution_count": 20,
   "id": "4d840232",
   "metadata": {},
   "outputs": [
    {
     "data": {
      "image/png": "[encoded data removed]",
      "text/plain": [
       "<Figure size 432x288 with 2 Axes>"
      ]
     },
     "metadata": {
      "needs_background": "light"
     },
     "output_type": "display_data"
    }
   ],
   "source": [
    "plot_cm(test_preds_SOCIALMEDIA, 'Social_Media')"
   ]
  },
  {
   "cell_type": "markdown",
   "id": "4f2f3a41",
   "metadata": {},
   "source": [
    "## Per Populist Dimension"
   ]
  },
  {
   "cell_type": "code",
   "execution_count": 17,
   "id": "87b00f92",
   "metadata": {},
   "outputs": [],
   "source": [
    "test_preds_pc = test_preds.loc[(test_preds.POPULIST_PeopleCent == 1) & (test_preds.POPULIST_AntiElite == 0) & (test_preds.POPULIST_Sovereign == 0)]\n",
    "#test_pred_ae = merged_df.loc[merged_df.POPULIST_AntiElite == 1]\n",
    "#test_pred_sov = merged_df.loc[merged_df.POPULIST_Sovereign == 1]\n",
    "#merged_df_sov['POPULIST'] = merged_df_sov.POPULIST.astype(int)\n",
    "#merged_df_sov['label'] = merged_df_sov.label.astype(int)"
   ]
  },
  {
   "cell_type": "code",
   "execution_count": 23,
   "id": "c8e4f467",
   "metadata": {},
   "outputs": [
    {
     "data": {
      "text/html": [
       "<div>\n",
       "<style scoped>\n",
       "    .dataframe tbody tr th:only-of-type {\n",
       "        vertical-align: middle;\n",
       "    }\n",
       "\n",
       "    .dataframe tbody tr th {\n",
       "        vertical-align: top;\n",
       "    }\n",
       "\n",
       "    .dataframe thead th {\n",
       "        text-align: right;\n",
       "    }\n",
       "</style>\n",
       "<table border=\"1\" class=\"dataframe\">\n",
       "  <thead>\n",
       "    <tr style=\"text-align: right;\">\n",
       "      <th></th>\n",
       "      <th>Unnamed: 0</th>\n",
       "      <th>Content</th>\n",
       "      <th>POPULIST_PeopleCent</th>\n",
       "      <th>POPULIST_AntiElite</th>\n",
       "      <th>POPULIST_Sovereign</th>\n",
       "      <th>Country</th>\n",
       "      <th>Category</th>\n",
       "      <th>Y_test</th>\n",
       "      <th>Y_pred</th>\n",
       "    </tr>\n",
       "  </thead>\n",
       "  <tbody>\n",
       "    <tr>\n",
       "      <th>7</th>\n",
       "      <td>72</td>\n",
       "      <td>Statt sie zu fördern, haben SPÖ und ÖVP Leistu...</td>\n",
       "      <td>1.0</td>\n",
       "      <td>0.0</td>\n",
       "      <td>0.0</td>\n",
       "      <td>au</td>\n",
       "      <td>PartyMan</td>\n",
       "      <td>1</td>\n",
       "      <td>1</td>\n",
       "    </tr>\n",
       "    <tr>\n",
       "      <th>33</th>\n",
       "      <td>740</td>\n",
       "      <td>Denn wir arbeiten für die Interessen und das W...</td>\n",
       "      <td>1.0</td>\n",
       "      <td>0.0</td>\n",
       "      <td>0.0</td>\n",
       "      <td>au</td>\n",
       "      <td>PressRelease</td>\n",
       "      <td>1</td>\n",
       "      <td>1</td>\n",
       "    </tr>\n",
       "    <tr>\n",
       "      <th>34</th>\n",
       "      <td>1546</td>\n",
       "      <td>A=text B=newspaper A. Die Legislaturziele 1975...</td>\n",
       "      <td>1.0</td>\n",
       "      <td>0.0</td>\n",
       "      <td>0.0</td>\n",
       "      <td>cd</td>\n",
       "      <td>Past_PartyMan</td>\n",
       "      <td>1</td>\n",
       "      <td>1</td>\n",
       "    </tr>\n",
       "    <tr>\n",
       "      <th>42</th>\n",
       "      <td>1550</td>\n",
       "      <td>Aber auch unsere Partei hat ihr Programm und i...</td>\n",
       "      <td>1.0</td>\n",
       "      <td>0.0</td>\n",
       "      <td>0.0</td>\n",
       "      <td>cd</td>\n",
       "      <td>Past_PartyMan</td>\n",
       "      <td>1</td>\n",
       "      <td>1</td>\n",
       "    </tr>\n",
       "    <tr>\n",
       "      <th>49</th>\n",
       "      <td>1737</td>\n",
       "      <td>Text-ID: cd_pr_el_11_050024.txt Press Release ...</td>\n",
       "      <td>1.0</td>\n",
       "      <td>0.0</td>\n",
       "      <td>0.0</td>\n",
       "      <td>cd</td>\n",
       "      <td>PressRelease</td>\n",
       "      <td>1</td>\n",
       "      <td>0</td>\n",
       "    </tr>\n",
       "    <tr>\n",
       "      <th>...</th>\n",
       "      <td>...</td>\n",
       "      <td>...</td>\n",
       "      <td>...</td>\n",
       "      <td>...</td>\n",
       "      <td>...</td>\n",
       "      <td>...</td>\n",
       "      <td>...</td>\n",
       "      <td>...</td>\n",
       "      <td>...</td>\n",
       "    </tr>\n",
       "    <tr>\n",
       "      <th>649</th>\n",
       "      <td>2065</td>\n",
       "      <td>Als ein freier Mensch sage ich: In einem Land,...</td>\n",
       "      <td>1.0</td>\n",
       "      <td>0.0</td>\n",
       "      <td>0.0</td>\n",
       "      <td>de</td>\n",
       "      <td>SocialMedia</td>\n",
       "      <td>1</td>\n",
       "      <td>0</td>\n",
       "    </tr>\n",
       "    <tr>\n",
       "      <th>650</th>\n",
       "      <td>2105</td>\n",
       "      <td>Anders kann ich ihre Äußerungen in der Rheinis...</td>\n",
       "      <td>1.0</td>\n",
       "      <td>0.0</td>\n",
       "      <td>0.0</td>\n",
       "      <td>de</td>\n",
       "      <td>SocialMedia</td>\n",
       "      <td>1</td>\n",
       "      <td>0</td>\n",
       "    </tr>\n",
       "    <tr>\n",
       "      <th>651</th>\n",
       "      <td>2129</td>\n",
       "      <td>Dabei wird es mit einer rein quantitativen Zur...</td>\n",
       "      <td>1.0</td>\n",
       "      <td>0.0</td>\n",
       "      <td>0.0</td>\n",
       "      <td>de</td>\n",
       "      <td>SocialMedia</td>\n",
       "      <td>1</td>\n",
       "      <td>0</td>\n",
       "    </tr>\n",
       "    <tr>\n",
       "      <th>663</th>\n",
       "      <td>722</td>\n",
       "      <td>Die Attacken der Sozialisten lassen sich nur d...</td>\n",
       "      <td>1.0</td>\n",
       "      <td>0.0</td>\n",
       "      <td>0.0</td>\n",
       "      <td>au</td>\n",
       "      <td>PressRelease</td>\n",
       "      <td>1</td>\n",
       "      <td>1</td>\n",
       "    </tr>\n",
       "    <tr>\n",
       "      <th>680</th>\n",
       "      <td>1382</td>\n",
       "      <td>Jetzt noch einmal Vollgas: Für die Schweiz, di...</td>\n",
       "      <td>1.0</td>\n",
       "      <td>0.0</td>\n",
       "      <td>0.0</td>\n",
       "      <td>cd</td>\n",
       "      <td>SocialMedia</td>\n",
       "      <td>1</td>\n",
       "      <td>1</td>\n",
       "    </tr>\n",
       "  </tbody>\n",
       "</table>\n",
       "<p>78 rows × 9 columns</p>\n",
       "</div>"
      ],
      "text/plain": [
       "     Unnamed: 0                                            Content  \\\n",
       "7            72  Statt sie zu fördern, haben SPÖ und ÖVP Leistu...   \n",
       "33          740  Denn wir arbeiten für die Interessen und das W...   \n",
       "34         1546  A=text B=newspaper A. Die Legislaturziele 1975...   \n",
       "42         1550  Aber auch unsere Partei hat ihr Programm und i...   \n",
       "49         1737  Text-ID: cd_pr_el_11_050024.txt Press Release ...   \n",
       "..          ...                                                ...   \n",
       "649        2065  Als ein freier Mensch sage ich: In einem Land,...   \n",
       "650        2105  Anders kann ich ihre Äußerungen in der Rheinis...   \n",
       "651        2129  Dabei wird es mit einer rein quantitativen Zur...   \n",
       "663         722  Die Attacken der Sozialisten lassen sich nur d...   \n",
       "680        1382  Jetzt noch einmal Vollgas: Für die Schweiz, di...   \n",
       "\n",
       "     POPULIST_PeopleCent  POPULIST_AntiElite  POPULIST_Sovereign Country  \\\n",
       "7                    1.0                 0.0                 0.0      au   \n",
       "33                   1.0                 0.0                 0.0      au   \n",
       "34                   1.0                 0.0                 0.0      cd   \n",
       "42                   1.0                 0.0                 0.0      cd   \n",
       "49                   1.0                 0.0                 0.0      cd   \n",
       "..                   ...                 ...                 ...     ...   \n",
       "649                  1.0                 0.0                 0.0      de   \n",
       "650                  1.0                 0.0                 0.0      de   \n",
       "651                  1.0                 0.0                 0.0      de   \n",
       "663                  1.0                 0.0                 0.0      au   \n",
       "680                  1.0                 0.0                 0.0      cd   \n",
       "\n",
       "          Category  Y_test  Y_pred  \n",
       "7         PartyMan       1       1  \n",
       "33    PressRelease       1       1  \n",
       "34   Past_PartyMan       1       1  \n",
       "42   Past_PartyMan       1       1  \n",
       "49    PressRelease       1       0  \n",
       "..             ...     ...     ...  \n",
       "649    SocialMedia       1       0  \n",
       "650    SocialMedia       1       0  \n",
       "651    SocialMedia       1       0  \n",
       "663   PressRelease       1       1  \n",
       "680    SocialMedia       1       1  \n",
       "\n",
       "[78 rows x 9 columns]"
      ]
     },
     "execution_count": 23,
     "metadata": {},
     "output_type": "execute_result"
    }
   ],
   "source": [
    "test_preds_pc"
   ]
  },
  {
   "cell_type": "code",
   "execution_count": 24,
   "id": "08b87d60",
   "metadata": {},
   "outputs": [],
   "source": [
    "def plot_cm(df, name):\n",
    "    \n",
    "    y_true=df.Y_test\n",
    "    y_pred=df.Y_pred\n",
    "    \n",
    "    cm = confusion_matrix(y_true, y_pred)\n",
    "    \n",
    "    ax= plt.subplot()\n",
    "    sns.heatmap(cm, annot=True, fmt='g', ax=ax);  #annot=True to annotate cells, ftm='g' to disable scientific notation\n",
    "\n",
    "    # labels, title and ticks\n",
    "    ax.set_xlabel('Predicted labels');ax.set_ylabel('True labels');\n",
    "    ax.set_title('Confusion Matrix '+ name); \n",
    "    ax.xaxis.set_ticklabels(['non-populist', 'populist']); ax.yaxis.set_ticklabels(['non-populist', 'populist']);\n",
    "    #plt.savefig('images/cm_label_model_' + name + '.png')"
   ]
  },
  {
   "cell_type": "code",
   "execution_count": 25,
   "id": "19724188",
   "metadata": {
    "scrolled": false
   },
   "outputs": [
    {
     "data": {
      "image/png": "[encoded data removed]",
      "text/plain": [
       "<Figure size 432x288 with 2 Axes>"
      ]
     },
     "metadata": {
      "needs_background": "light"
     },
     "output_type": "display_data"
    }
   ],
   "source": [
    "plot_cm(test_preds_pc, 'People-Cent')"
   ]
  },
  {
   "cell_type": "code",
   "execution_count": null,
   "id": "91fd66ac",
   "metadata": {},
   "outputs": [],
   "source": []
  }
 ],
 "metadata": {
  "kernelspec": {
   "display_name": "Python 3",
   "language": "python",
   "name": "python3"
  },
  "language_info": {
   "codemirror_mode": {
    "name": "ipython",
    "version": 3
   },
   "file_extension": ".py",
   "mimetype": "text/x-python",
   "name": "python",
   "nbconvert_exporter": "python",
   "pygments_lexer": "ipython3",
   "version": "3.8.8"
  }
 },
 "nbformat": 4,
 "nbformat_minor": 5
}
