{
 "cells": [
  {
   "cell_type": "code",
   "execution_count": 10,
   "id": "b09f1623",
   "metadata": {},
   "outputs": [],
   "source": [
    "import pandas as pd\n",
    "from sklearn.model_selection import train_test_split\n",
    "from sklearn.metrics import accuracy_score, precision_score, f1_score"
   ]
  },
  {
   "cell_type": "markdown",
   "id": "7ad9ce63",
   "metadata": {},
   "source": [
    "## Import Dataset with generated labels and with true labels"
   ]
  },
  {
   "cell_type": "code",
   "execution_count": 11,
   "id": "1d8fd112",
   "metadata": {},
   "outputs": [],
   "source": [
    "dev_labeled = pd.read_csv('C:/Users/dschw/Documents/GitHub/Thesis/Experiments/End_Model_Performances/1_Full/labeled_df_dev_threshold_None.csv')\n",
    "## Plot confusion matrices - dev Set"
   ]
  },
  {
   "cell_type": "code",
   "execution_count": 12,
   "id": "4fbbc319",
   "metadata": {},
   "outputs": [],
   "source": [
    "def generate_train_dev_test_split(df):\n",
    "    \"\"\"\n",
    "    Generate train dev test split\n",
    "    :param df: Dataset to split\n",
    "    :type df: DataFrame\n",
    "    :return: Returns three datasets\n",
    "    :rtype: DataFrame, DataFrame, DataFrame\n",
    "    \"\"\"\n",
    "\n",
    "    # Split into 60% train, 20% dev and 20% test\n",
    "    rest, test = train_test_split(df, test_size=0.2, random_state=42, shuffle=True, stratify=df.POPULIST)\n",
    "    train, dev = train_test_split(rest, test_size=0.1, random_state=42, shuffle=True, stratify=rest.POPULIST)\n",
    "\n",
    "    return train, dev, test"
   ]
  },
  {
   "cell_type": "code",
   "execution_count": 13,
   "id": "ff3a2bf4",
   "metadata": {},
   "outputs": [],
   "source": [
    "nccr_df_prep = pd.read_csv('C:/Users/dschw/Documents/GitHub/Thesis/Output/NCCR_combined_corpus_DE_wording_available_prep.csv')\n",
    "\n",
    "# Generate Train, Dev, Test Split\n",
    "train, dev, test = generate_train_dev_test_split(nccr_df_prep)"
   ]
  },
  {
   "cell_type": "code",
   "execution_count": 14,
   "id": "5cdcccea",
   "metadata": {},
   "outputs": [
    {
     "data": {
      "text/html": [
       "<div>\n",
       "<style scoped>\n",
       "    .dataframe tbody tr th:only-of-type {\n",
       "        vertical-align: middle;\n",
       "    }\n",
       "\n",
       "    .dataframe tbody tr th {\n",
       "        vertical-align: top;\n",
       "    }\n",
       "\n",
       "    .dataframe thead th {\n",
       "        text-align: right;\n",
       "    }\n",
       "</style>\n",
       "<table border=\"1\" class=\"dataframe\">\n",
       "  <thead>\n",
       "    <tr style=\"text-align: right;\">\n",
       "      <th></th>\n",
       "      <th>content</th>\n",
       "      <th>label</th>\n",
       "      <th>ID</th>\n",
       "      <th>text</th>\n",
       "      <th>Coder</th>\n",
       "      <th>#TS</th>\n",
       "      <th>#TS2</th>\n",
       "      <th>Codierstart_Lab</th>\n",
       "      <th>Medium</th>\n",
       "      <th>Author</th>\n",
       "      <th>...</th>\n",
       "      <th>text_prep</th>\n",
       "      <th>party</th>\n",
       "      <th>year</th>\n",
       "      <th>wording_matches</th>\n",
       "      <th>wording_sentence</th>\n",
       "      <th>wording_segments</th>\n",
       "      <th>match_count</th>\n",
       "      <th>Wording_sent_count</th>\n",
       "      <th>Unnamed: 0</th>\n",
       "      <th>ID_non</th>\n",
       "    </tr>\n",
       "    <tr>\n",
       "      <th>Unnamed: 0</th>\n",
       "      <th></th>\n",
       "      <th></th>\n",
       "      <th></th>\n",
       "      <th></th>\n",
       "      <th></th>\n",
       "      <th></th>\n",
       "      <th></th>\n",
       "      <th></th>\n",
       "      <th></th>\n",
       "      <th></th>\n",
       "      <th></th>\n",
       "      <th></th>\n",
       "      <th></th>\n",
       "      <th></th>\n",
       "      <th></th>\n",
       "      <th></th>\n",
       "      <th></th>\n",
       "      <th></th>\n",
       "      <th></th>\n",
       "      <th></th>\n",
       "      <th></th>\n",
       "    </tr>\n",
       "  </thead>\n",
       "  <tbody>\n",
       "    <tr>\n",
       "      <th>263</th>\n",
       "      <td>Budget. Die Österreichische Volkspartei ist üb...</td>\n",
       "      <td>1</td>\n",
       "      <td>au_pm_el_94_40004.txt</td>\n",
       "      <td>Text ID:\\nau_pm_el_94_40004.txt\\n\\nParty Manif...</td>\n",
       "      <td>stbu</td>\n",
       "      <td>1.405520e+09</td>\n",
       "      <td>1.405524e+09</td>\n",
       "      <td>Wed Jul 16 16:17:25 2014</td>\n",
       "      <td>1160</td>\n",
       "      <td>2.0</td>\n",
       "      <td>...</td>\n",
       "      <td>Der Erhard Busek Wirtschaftsplan. 1. Wirtschaf...</td>\n",
       "      <td>ovp</td>\n",
       "      <td>1994</td>\n",
       "      <td>[(1212883764967918647, 15, 33)]</td>\n",
       "      <td>[['Die Österreichische Volkspartei ist überzeu...</td>\n",
       "      <td>Budget. Die Österreichische Volkspartei ist üb...</td>\n",
       "      <td>1</td>\n",
       "      <td>1</td>\n",
       "      <td>NaN</td>\n",
       "      <td>NaN</td>\n",
       "    </tr>\n",
       "    <tr>\n",
       "      <th>297</th>\n",
       "      <td>Dass Rechtsextreme und Neonazis in der FPÖ ihr...</td>\n",
       "      <td>1</td>\n",
       "      <td>au_pr_el_13_010003.txt</td>\n",
       "      <td>Text-ID: at_pr_el_13_010003.txt\\n\\nPress Relea...</td>\n",
       "      <td>pagr</td>\n",
       "      <td>1.424939e+09</td>\n",
       "      <td>1.424940e+09</td>\n",
       "      <td>Thu Feb 26 09:26:01 2015</td>\n",
       "      <td>1150</td>\n",
       "      <td>2.0</td>\n",
       "      <td>...</td>\n",
       "      <td>Hitlergruß beim Wahlkampffinale der FPÖ - ein ...</td>\n",
       "      <td>spo</td>\n",
       "      <td>2013</td>\n",
       "      <td>[(1212883764967918647, 188, 200)]</td>\n",
       "      <td>[['Die FPÖ darf daher auf keinen Fall in die R...</td>\n",
       "      <td>Dass Rechtsextreme und Neonazis in der FPÖ ihr...</td>\n",
       "      <td>1</td>\n",
       "      <td>1</td>\n",
       "      <td>NaN</td>\n",
       "      <td>NaN</td>\n",
       "    </tr>\n",
       "    <tr>\n",
       "      <th>3127</th>\n",
       "      <td>Die SPD hingegen hat sich intensiv für die Ums...</td>\n",
       "      <td>1</td>\n",
       "      <td>de_pr_el_13_061277.txt</td>\n",
       "      <td>Text-ID: de_pr_el_13_061277.txt\\n\\nPress Relea...</td>\n",
       "      <td>nibr</td>\n",
       "      <td>1.435049e+09</td>\n",
       "      <td>1.435049e+09</td>\n",
       "      <td>Tue Jun 23 10:35:40 2015</td>\n",
       "      <td>1550</td>\n",
       "      <td>2.0</td>\n",
       "      <td>...</td>\n",
       "      <td>Zu dem nun veröffentlichten Behindertenbericht...</td>\n",
       "      <td>spd</td>\n",
       "      <td>2013</td>\n",
       "      <td>[(1212883764967918647, 285, 288)]</td>\n",
       "      <td>[['Stattdessen wurden von CDUCSU und FDP im Bu...</td>\n",
       "      <td>Die SPD hingegen hat sich intensiv für die Ums...</td>\n",
       "      <td>1</td>\n",
       "      <td>1</td>\n",
       "      <td>NaN</td>\n",
       "      <td>NaN</td>\n",
       "    </tr>\n",
       "    <tr>\n",
       "      <th>2667</th>\n",
       "      <td>SPD und Grüne stehen hingegen zur Energiewende...</td>\n",
       "      <td>1</td>\n",
       "      <td>de_pr_el_13_040017.txt</td>\n",
       "      <td>Text-ID: de_pr_el_13_040017.txt\\n\\nPress Relea...</td>\n",
       "      <td>rakr</td>\n",
       "      <td>1.417358e+09</td>\n",
       "      <td>1.417360e+09</td>\n",
       "      <td>Sun Nov 30 15:39:53 2014</td>\n",
       "      <td>1550</td>\n",
       "      <td>2.0</td>\n",
       "      <td>...</td>\n",
       "      <td>Zum Energiekonzept von Peer Steinbrück und Mat...</td>\n",
       "      <td>grune</td>\n",
       "      <td>2013</td>\n",
       "      <td>[(1212883764967918647, 53, 56)]</td>\n",
       "      <td>[['Das Konzept von Peer Steinbrück zeigt deutl...</td>\n",
       "      <td>SPD und Grüne stehen hingegen zur Energiewende...</td>\n",
       "      <td>1</td>\n",
       "      <td>1</td>\n",
       "      <td>NaN</td>\n",
       "      <td>NaN</td>\n",
       "    </tr>\n",
       "    <tr>\n",
       "      <th>1746</th>\n",
       "      <td>Zudem soll das Fahrzeuggewicht bei der Berechn...</td>\n",
       "      <td>1</td>\n",
       "      <td>cd_pr_el_11_050039.txt</td>\n",
       "      <td>Text-ID: cd_pr_el_11_050039.txt\\n\\nPress Relea...</td>\n",
       "      <td>pagr</td>\n",
       "      <td>1.417085e+09</td>\n",
       "      <td>1.417085e+09</td>\n",
       "      <td>Thu Nov 27 11:40:42 2014</td>\n",
       "      <td>1350</td>\n",
       "      <td>2.0</td>\n",
       "      <td>...</td>\n",
       "      <td>Text-ID: cd_pr_el_11_050039.txt Press Release ...</td>\n",
       "      <td>grune</td>\n",
       "      <td>2011</td>\n",
       "      <td>[(1212883764967918647, 221, 253)]</td>\n",
       "      <td>[['Erfolg fr die Stopp-Offroader-Initiative Au...</td>\n",
       "      <td>Zudem soll das Fahrzeuggewicht bei der Berechn...</td>\n",
       "      <td>1</td>\n",
       "      <td>1</td>\n",
       "      <td>NaN</td>\n",
       "      <td>NaN</td>\n",
       "    </tr>\n",
       "    <tr>\n",
       "      <th>...</th>\n",
       "      <td>...</td>\n",
       "      <td>...</td>\n",
       "      <td>...</td>\n",
       "      <td>...</td>\n",
       "      <td>...</td>\n",
       "      <td>...</td>\n",
       "      <td>...</td>\n",
       "      <td>...</td>\n",
       "      <td>...</td>\n",
       "      <td>...</td>\n",
       "      <td>...</td>\n",
       "      <td>...</td>\n",
       "      <td>...</td>\n",
       "      <td>...</td>\n",
       "      <td>...</td>\n",
       "      <td>...</td>\n",
       "      <td>...</td>\n",
       "      <td>...</td>\n",
       "      <td>...</td>\n",
       "      <td>...</td>\n",
       "      <td>...</td>\n",
       "    </tr>\n",
       "    <tr>\n",
       "      <th>1468</th>\n",
       "      <td>Die EU kündigt an, dass der bilaterale Weg für...</td>\n",
       "      <td>1</td>\n",
       "      <td>cd_pm_el_11_70005.txt</td>\n",
       "      <td>Text ID:\\ncd_pm_el_11_70005.txt\\n\\nParty Manif...</td>\n",
       "      <td>andi</td>\n",
       "      <td>1.413215e+09</td>\n",
       "      <td>1.413219e+09</td>\n",
       "      <td>Mon Oct 13 17:39:13 2014</td>\n",
       "      <td>1360</td>\n",
       "      <td>2.0</td>\n",
       "      <td>...</td>\n",
       "      <td>AUSSENPOLITIK Kein EU -Beitritt Das Ziel der S...</td>\n",
       "      <td>svp</td>\n",
       "      <td>2011</td>\n",
       "      <td>[]</td>\n",
       "      <td>[]</td>\n",
       "      <td>Die EU kündigt an, dass der bilaterale Weg für...</td>\n",
       "      <td>-1</td>\n",
       "      <td>2</td>\n",
       "      <td>NaN</td>\n",
       "      <td>NaN</td>\n",
       "    </tr>\n",
       "    <tr>\n",
       "      <th>2980</th>\n",
       "      <td>Kunert weiter: \"Bundesinnenministerium und DOS...</td>\n",
       "      <td>1</td>\n",
       "      <td>de_pr_el_13_051101.txt</td>\n",
       "      <td>Text-ID: de_pr_el_13_051101.txt\\n\\nPress Relea...</td>\n",
       "      <td>nibr</td>\n",
       "      <td>1.429732e+09</td>\n",
       "      <td>1.429733e+09</td>\n",
       "      <td>Wed Apr 22 21:51:49 2015</td>\n",
       "      <td>1550</td>\n",
       "      <td>2.0</td>\n",
       "      <td>...</td>\n",
       "      <td>NA Berlin (ots) - \"Nach der Teil-Veröffentlich...</td>\n",
       "      <td>dielinke</td>\n",
       "      <td>2013</td>\n",
       "      <td>[(1212883764967918647, 89, 91)]</td>\n",
       "      <td>[['Bundesinnenminister Friedrich verschleppt d...</td>\n",
       "      <td>Kunert weiter: \"Bundesinnenministerium und DOS...</td>\n",
       "      <td>1</td>\n",
       "      <td>1</td>\n",
       "      <td>NaN</td>\n",
       "      <td>NaN</td>\n",
       "    </tr>\n",
       "    <tr>\n",
       "      <th>369</th>\n",
       "      <td>Gemeinsame Schule und Ganztagsschule ausbauen ...</td>\n",
       "      <td>1</td>\n",
       "      <td>au_pr_el_13_010112.txt</td>\n",
       "      <td>Text-ID: at_pr_el_13_010112.txt\\n\\nPress Relea...</td>\n",
       "      <td>pagr</td>\n",
       "      <td>1.431422e+09</td>\n",
       "      <td>1.431422e+09</td>\n",
       "      <td>Tue May 12 11:14:30 2015</td>\n",
       "      <td>1150</td>\n",
       "      <td>2.0</td>\n",
       "      <td>...</td>\n",
       "      <td>Gemeinsame Schule und Ganztagsschule ausbauen ...</td>\n",
       "      <td>spo</td>\n",
       "      <td>2013</td>\n",
       "      <td>[(1212883764967918647, 69, 121)]</td>\n",
       "      <td>[['Kuntzl warnt davor, die österreichische Ent...</td>\n",
       "      <td>Gemeinsame Schule und Ganztagsschule ausbauen ...</td>\n",
       "      <td>1</td>\n",
       "      <td>1</td>\n",
       "      <td>NaN</td>\n",
       "      <td>NaN</td>\n",
       "    </tr>\n",
       "    <tr>\n",
       "      <th>923</th>\n",
       "      <td>Die Affäre ist also doppelt unappetitlich. Zum...</td>\n",
       "      <td>1</td>\n",
       "      <td>au_pr_el_13_050044.txt</td>\n",
       "      <td>Text-ID: at_pr_el_13_050044.txt\\n\\nPress Relea...</td>\n",
       "      <td>stbu</td>\n",
       "      <td>1.416653e+09</td>\n",
       "      <td>1.416654e+09</td>\n",
       "      <td>Sat Nov 22 11:35:12 2014</td>\n",
       "      <td>1150</td>\n",
       "      <td>2.0</td>\n",
       "      <td>...</td>\n",
       "      <td>Wiederholung des Films mit zwei getöteten Cobr...</td>\n",
       "      <td>fpo</td>\n",
       "      <td>2013</td>\n",
       "      <td>[(1212883764967918647, 245, 276)]</td>\n",
       "      <td>[['Die Affäre ist also doppelt unappetitlich.']]</td>\n",
       "      <td>Die Affäre ist also doppelt unappetitlich. Zum...</td>\n",
       "      <td>-1</td>\n",
       "      <td>2</td>\n",
       "      <td>NaN</td>\n",
       "      <td>NaN</td>\n",
       "    </tr>\n",
       "    <tr>\n",
       "      <th>1683</th>\n",
       "      <td>Text-ID: cd_pr_el_11_040006.txt Press Release ...</td>\n",
       "      <td>1</td>\n",
       "      <td>cd_pr_el_11_040006.txt</td>\n",
       "      <td>Text-ID: cd_pr_el_11_040006.txt\\n\\nPress Relea...</td>\n",
       "      <td>pagr</td>\n",
       "      <td>1.427199e+09</td>\n",
       "      <td>1.427200e+09</td>\n",
       "      <td>Tue Mar 24 13:17:21 2015</td>\n",
       "      <td>1350</td>\n",
       "      <td>2.0</td>\n",
       "      <td>...</td>\n",
       "      <td>Text-ID: cd_pr_el_11_040006.txt Press Release ...</td>\n",
       "      <td>fdp</td>\n",
       "      <td>2011</td>\n",
       "      <td>[(1212883764967918647, 50, 75)]</td>\n",
       "      <td>[['FDP.Die Liberalen begrsst, dass die stndert...</td>\n",
       "      <td>Text-ID: cd_pr_el_11_040006.txt Press Release ...</td>\n",
       "      <td>1</td>\n",
       "      <td>1</td>\n",
       "      <td>NaN</td>\n",
       "      <td>NaN</td>\n",
       "    </tr>\n",
       "  </tbody>\n",
       "</table>\n",
       "<p>277 rows × 182 columns</p>\n",
       "</div>"
      ],
      "text/plain": [
       "                                                      content  label  \\\n",
       "Unnamed: 0                                                             \n",
       "263         Budget. Die Österreichische Volkspartei ist üb...      1   \n",
       "297         Dass Rechtsextreme und Neonazis in der FPÖ ihr...      1   \n",
       "3127        Die SPD hingegen hat sich intensiv für die Ums...      1   \n",
       "2667        SPD und Grüne stehen hingegen zur Energiewende...      1   \n",
       "1746        Zudem soll das Fahrzeuggewicht bei der Berechn...      1   \n",
       "...                                                       ...    ...   \n",
       "1468        Die EU kündigt an, dass der bilaterale Weg für...      1   \n",
       "2980        Kunert weiter: \"Bundesinnenministerium und DOS...      1   \n",
       "369         Gemeinsame Schule und Ganztagsschule ausbauen ...      1   \n",
       "923         Die Affäre ist also doppelt unappetitlich. Zum...      1   \n",
       "1683        Text-ID: cd_pr_el_11_040006.txt Press Release ...      1   \n",
       "\n",
       "                                ID  \\\n",
       "Unnamed: 0                           \n",
       "263          au_pm_el_94_40004.txt   \n",
       "297         au_pr_el_13_010003.txt   \n",
       "3127        de_pr_el_13_061277.txt   \n",
       "2667        de_pr_el_13_040017.txt   \n",
       "1746        cd_pr_el_11_050039.txt   \n",
       "...                            ...   \n",
       "1468         cd_pm_el_11_70005.txt   \n",
       "2980        de_pr_el_13_051101.txt   \n",
       "369         au_pr_el_13_010112.txt   \n",
       "923         au_pr_el_13_050044.txt   \n",
       "1683        cd_pr_el_11_040006.txt   \n",
       "\n",
       "                                                         text Coder  \\\n",
       "Unnamed: 0                                                            \n",
       "263         Text ID:\\nau_pm_el_94_40004.txt\\n\\nParty Manif...  stbu   \n",
       "297         Text-ID: at_pr_el_13_010003.txt\\n\\nPress Relea...  pagr   \n",
       "3127        Text-ID: de_pr_el_13_061277.txt\\n\\nPress Relea...  nibr   \n",
       "2667        Text-ID: de_pr_el_13_040017.txt\\n\\nPress Relea...  rakr   \n",
       "1746        Text-ID: cd_pr_el_11_050039.txt\\n\\nPress Relea...  pagr   \n",
       "...                                                       ...   ...   \n",
       "1468        Text ID:\\ncd_pm_el_11_70005.txt\\n\\nParty Manif...  andi   \n",
       "2980        Text-ID: de_pr_el_13_051101.txt\\n\\nPress Relea...  nibr   \n",
       "369         Text-ID: at_pr_el_13_010112.txt\\n\\nPress Relea...  pagr   \n",
       "923         Text-ID: at_pr_el_13_050044.txt\\n\\nPress Relea...  stbu   \n",
       "1683        Text-ID: cd_pr_el_11_040006.txt\\n\\nPress Relea...  pagr   \n",
       "\n",
       "                     #TS          #TS2           Codierstart_Lab  Medium  \\\n",
       "Unnamed: 0                                                                 \n",
       "263         1.405520e+09  1.405524e+09  Wed Jul 16 16:17:25 2014    1160   \n",
       "297         1.424939e+09  1.424940e+09  Thu Feb 26 09:26:01 2015    1150   \n",
       "3127        1.435049e+09  1.435049e+09  Tue Jun 23 10:35:40 2015    1550   \n",
       "2667        1.417358e+09  1.417360e+09  Sun Nov 30 15:39:53 2014    1550   \n",
       "1746        1.417085e+09  1.417085e+09  Thu Nov 27 11:40:42 2014    1350   \n",
       "...                  ...           ...                       ...     ...   \n",
       "1468        1.413215e+09  1.413219e+09  Mon Oct 13 17:39:13 2014    1360   \n",
       "2980        1.429732e+09  1.429733e+09  Wed Apr 22 21:51:49 2015    1550   \n",
       "369         1.431422e+09  1.431422e+09  Tue May 12 11:14:30 2015    1150   \n",
       "923         1.416653e+09  1.416654e+09  Sat Nov 22 11:35:12 2014    1150   \n",
       "1683        1.427199e+09  1.427200e+09  Tue Mar 24 13:17:21 2015    1350   \n",
       "\n",
       "            Author  ...                                          text_prep  \\\n",
       "Unnamed: 0          ...                                                      \n",
       "263            2.0  ...  Der Erhard Busek Wirtschaftsplan. 1. Wirtschaf...   \n",
       "297            2.0  ...  Hitlergruß beim Wahlkampffinale der FPÖ - ein ...   \n",
       "3127           2.0  ...  Zu dem nun veröffentlichten Behindertenbericht...   \n",
       "2667           2.0  ...  Zum Energiekonzept von Peer Steinbrück und Mat...   \n",
       "1746           2.0  ...  Text-ID: cd_pr_el_11_050039.txt Press Release ...   \n",
       "...            ...  ...                                                ...   \n",
       "1468           2.0  ...  AUSSENPOLITIK Kein EU -Beitritt Das Ziel der S...   \n",
       "2980           2.0  ...  NA Berlin (ots) - \"Nach der Teil-Veröffentlich...   \n",
       "369            2.0  ...  Gemeinsame Schule und Ganztagsschule ausbauen ...   \n",
       "923            2.0  ...  Wiederholung des Films mit zwei getöteten Cobr...   \n",
       "1683           2.0  ...  Text-ID: cd_pr_el_11_040006.txt Press Release ...   \n",
       "\n",
       "               party  year                    wording_matches  \\\n",
       "Unnamed: 0                                                      \n",
       "263              ovp  1994    [(1212883764967918647, 15, 33)]   \n",
       "297              spo  2013  [(1212883764967918647, 188, 200)]   \n",
       "3127             spd  2013  [(1212883764967918647, 285, 288)]   \n",
       "2667           grune  2013    [(1212883764967918647, 53, 56)]   \n",
       "1746           grune  2011  [(1212883764967918647, 221, 253)]   \n",
       "...              ...   ...                                ...   \n",
       "1468             svp  2011                                 []   \n",
       "2980        dielinke  2013    [(1212883764967918647, 89, 91)]   \n",
       "369              spo  2013   [(1212883764967918647, 69, 121)]   \n",
       "923              fpo  2013  [(1212883764967918647, 245, 276)]   \n",
       "1683             fdp  2011    [(1212883764967918647, 50, 75)]   \n",
       "\n",
       "                                             wording_sentence  \\\n",
       "Unnamed: 0                                                      \n",
       "263         [['Die Österreichische Volkspartei ist überzeu...   \n",
       "297         [['Die FPÖ darf daher auf keinen Fall in die R...   \n",
       "3127        [['Stattdessen wurden von CDUCSU und FDP im Bu...   \n",
       "2667        [['Das Konzept von Peer Steinbrück zeigt deutl...   \n",
       "1746        [['Erfolg fr die Stopp-Offroader-Initiative Au...   \n",
       "...                                                       ...   \n",
       "1468                                                       []   \n",
       "2980        [['Bundesinnenminister Friedrich verschleppt d...   \n",
       "369         [['Kuntzl warnt davor, die österreichische Ent...   \n",
       "923          [['Die Affäre ist also doppelt unappetitlich.']]   \n",
       "1683        [['FDP.Die Liberalen begrsst, dass die stndert...   \n",
       "\n",
       "                                             wording_segments  match_count  \\\n",
       "Unnamed: 0                                                                   \n",
       "263         Budget. Die Österreichische Volkspartei ist üb...            1   \n",
       "297         Dass Rechtsextreme und Neonazis in der FPÖ ihr...            1   \n",
       "3127        Die SPD hingegen hat sich intensiv für die Ums...            1   \n",
       "2667        SPD und Grüne stehen hingegen zur Energiewende...            1   \n",
       "1746        Zudem soll das Fahrzeuggewicht bei der Berechn...            1   \n",
       "...                                                       ...          ...   \n",
       "1468        Die EU kündigt an, dass der bilaterale Weg für...           -1   \n",
       "2980        Kunert weiter: \"Bundesinnenministerium und DOS...            1   \n",
       "369         Gemeinsame Schule und Ganztagsschule ausbauen ...            1   \n",
       "923         Die Affäre ist also doppelt unappetitlich. Zum...           -1   \n",
       "1683        Text-ID: cd_pr_el_11_040006.txt Press Release ...            1   \n",
       "\n",
       "            Wording_sent_count Unnamed: 0  ID_non  \n",
       "Unnamed: 0                                         \n",
       "263                          1        NaN     NaN  \n",
       "297                          1        NaN     NaN  \n",
       "3127                         1        NaN     NaN  \n",
       "2667                         1        NaN     NaN  \n",
       "1746                         1        NaN     NaN  \n",
       "...                        ...        ...     ...  \n",
       "1468                         2        NaN     NaN  \n",
       "2980                         1        NaN     NaN  \n",
       "369                          1        NaN     NaN  \n",
       "923                          2        NaN     NaN  \n",
       "1683                         1        NaN     NaN  \n",
       "\n",
       "[277 rows x 182 columns]"
      ]
     },
     "execution_count": 14,
     "metadata": {},
     "output_type": "execute_result"
    }
   ],
   "source": [
    "# Merge labeled df with true labels\n",
    "dev_labeled.set_index('Unnamed: 0', inplace=True)\n",
    "merged_df = dev_labeled.join(dev)\n",
    "merged_df"
   ]
  },
  {
   "cell_type": "markdown",
   "id": "678a7c3e",
   "metadata": {},
   "source": [
    "## Plot confusion matrices - Dev Set"
   ]
  },
  {
   "cell_type": "markdown",
   "id": "049adc72",
   "metadata": {},
   "source": [
    "### Overall"
   ]
  },
  {
   "cell_type": "code",
   "execution_count": 15,
   "id": "d68023b4",
   "metadata": {},
   "outputs": [],
   "source": [
    "from sklearn.metrics import confusion_matrix, plot_confusion_matrix, classification_report\n",
    "import matplotlib.pyplot as plt\n",
    "import numpy as np\n",
    "import pylab as pl"
   ]
  },
  {
   "cell_type": "code",
   "execution_count": 16,
   "id": "2a2b0d44",
   "metadata": {},
   "outputs": [],
   "source": [
    "y_true = merged_df.POPULIST\n",
    "y_pred = merged_df.label\n",
    "cm = confusion_matrix(y_true, y_pred)\n",
    "display_labels = [0,1]"
   ]
  },
  {
   "cell_type": "code",
   "execution_count": 17,
   "id": "142e11ab",
   "metadata": {},
   "outputs": [
    {
     "name": "stdout",
     "output_type": "stream",
     "text": [
      "              precision    recall  f1-score   support\n",
      "\n",
      "         0.0       0.00      0.00      0.00       189\n",
      "         1.0       0.32      1.00      0.48        88\n",
      "\n",
      "    accuracy                           0.32       277\n",
      "   macro avg       0.16      0.50      0.24       277\n",
      "weighted avg       0.10      0.32      0.15       277\n",
      "\n"
     ]
    },
    {
     "name": "stderr",
     "output_type": "stream",
     "text": [
      "C:\\Users\\dschw\\anaconda3\\lib\\site-packages\\sklearn\\metrics\\_classification.py:1245: UndefinedMetricWarning: Precision and F-score are ill-defined and being set to 0.0 in labels with no predicted samples. Use `zero_division` parameter to control this behavior.\n",
      "  _warn_prf(average, modifier, msg_start, len(result))\n",
      "C:\\Users\\dschw\\anaconda3\\lib\\site-packages\\sklearn\\metrics\\_classification.py:1245: UndefinedMetricWarning: Precision and F-score are ill-defined and being set to 0.0 in labels with no predicted samples. Use `zero_division` parameter to control this behavior.\n",
      "  _warn_prf(average, modifier, msg_start, len(result))\n",
      "C:\\Users\\dschw\\anaconda3\\lib\\site-packages\\sklearn\\metrics\\_classification.py:1245: UndefinedMetricWarning: Precision and F-score are ill-defined and being set to 0.0 in labels with no predicted samples. Use `zero_division` parameter to control this behavior.\n",
      "  _warn_prf(average, modifier, msg_start, len(result))\n"
     ]
    }
   ],
   "source": [
    "print(classification_report(y_true, y_pred))"
   ]
  },
  {
   "cell_type": "code",
   "execution_count": 18,
   "id": "06ba3d4c",
   "metadata": {},
   "outputs": [
    {
     "data": {
      "image/png": "[encoded data removed]",
      "text/plain": [
       "<Figure size 432x288 with 2 Axes>"
      ]
     },
     "metadata": {
      "needs_background": "light"
     },
     "output_type": "display_data"
    }
   ],
   "source": [
    "import seaborn as sns\n",
    "import matplotlib.pyplot as plt     \n",
    "\n",
    "ax= plt.subplot()\n",
    "sns.heatmap(cm, annot=True, fmt='g', ax=ax);  #annot=True to annotate cells, ftm='g' to disable scientific notation\n",
    "\n",
    "# labels, title and ticks\n",
    "ax.set_xlabel('Predicted labels');ax.set_ylabel('True labels'); \n",
    "ax.xaxis.set_ticklabels(['Non-populist', 'Populist']); ax.yaxis.set_ticklabels(['Non-populist', 'Populist']);\n",
    "plt.savefig('images/cm_label_model_no_thres_all.png')"
   ]
  },
  {
   "cell_type": "markdown",
   "id": "bba4a83c",
   "metadata": {},
   "source": [
    "### Per dimension (AE,PC,Sov)"
   ]
  },
  {
   "cell_type": "code",
   "execution_count": 19,
   "id": "e27856eb",
   "metadata": {},
   "outputs": [
    {
     "name": "stderr",
     "output_type": "stream",
     "text": [
      "<ipython-input-19-56a9a00bf5e8>:4: SettingWithCopyWarning: \n",
      "A value is trying to be set on a copy of a slice from a DataFrame.\n",
      "Try using .loc[row_indexer,col_indexer] = value instead\n",
      "\n",
      "See the caveats in the documentation: https://pandas.pydata.org/pandas-docs/stable/user_guide/indexing.html#returning-a-view-versus-a-copy\n",
      "  merged_df_sov['POPULIST'] = merged_df_sov.POPULIST.astype(int)\n",
      "<ipython-input-19-56a9a00bf5e8>:5: SettingWithCopyWarning: \n",
      "A value is trying to be set on a copy of a slice from a DataFrame.\n",
      "Try using .loc[row_indexer,col_indexer] = value instead\n",
      "\n",
      "See the caveats in the documentation: https://pandas.pydata.org/pandas-docs/stable/user_guide/indexing.html#returning-a-view-versus-a-copy\n",
      "  merged_df_sov['label'] = merged_df_sov.label.astype(int)\n"
     ]
    }
   ],
   "source": [
    "merged_df_pc = merged_df.loc[merged_df.POPULIST_PeopleCent == 1]\n",
    "merged_df_ae = merged_df.loc[merged_df.POPULIST_AntiElite == 1]\n",
    "merged_df_sov = merged_df.loc[merged_df.POPULIST_Sovereign == 1]\n",
    "merged_df_sov['POPULIST'] = merged_df_sov.POPULIST.astype(int)\n",
    "merged_df_sov['label'] = merged_df_sov.label.astype(int)"
   ]
  },
  {
   "cell_type": "code",
   "execution_count": 20,
   "id": "692b63d6",
   "metadata": {},
   "outputs": [],
   "source": [
    "tn, fp, fn, tp = confusion_matrix(y_true, y_pred).ravel()"
   ]
  },
  {
   "cell_type": "code",
   "execution_count": 21,
   "id": "134d5ee5",
   "metadata": {},
   "outputs": [],
   "source": [
    "def plot_cm(df, name):\n",
    "    \n",
    "    y_true = df.POPULIST\n",
    "    y_pred = df.label\n",
    "    \n",
    "    cm = confusion_matrix(y_true, y_pred)\n",
    "    \n",
    "    ax= plt.subplot()\n",
    "    sns.heatmap(cm, annot=True, fmt='g', ax=ax);  #annot=True to annotate cells, ftm='g' to disable scientific notation\n",
    "\n",
    "    # labels, title and ticks\n",
    "    ax.set_xlabel('Predicted labels');ax.set_ylabel('True labels');\n",
    "    ax.set_title('Confusion Matrix '+ name); \n",
    "    ax.xaxis.set_ticklabels(['non-populist', 'populist']); ax.yaxis.set_ticklabels(['non-populist', 'populist']);\n",
    "    plt.savefig('images/cm_label_model_' + name + '.png')"
   ]
  },
  {
   "cell_type": "code",
   "execution_count": 22,
   "id": "770faf1a",
   "metadata": {},
   "outputs": [],
   "source": [
    "def plot_cm_sgl(df, name):\n",
    "    \n",
    "    y_true = df.POPULIST\n",
    "    y_pred = df.label\n",
    "    \n",
    "    cm = confusion_matrix(y_true, y_pred)\n",
    "    \n",
    "    ax= plt.subplot()\n",
    "    sns.heatmap(cm, annot=True, fmt='g', ax=ax);  #annot=True to annotate cells, ftm='g' to disable scientific notation\n",
    "\n",
    "    # labels, title and ticks\n",
    "    ax.set_xlabel('Predicted labels');ax.set_ylabel('True labels');\n",
    "    ax.set_title('Confusion Matrix '+ name); \n",
    "    ax.xaxis.set_ticklabels(['populist']); ax.yaxis.set_ticklabels(['populist']);\n",
    "    plt.savefig('images/cm_label_model_' + name + '.png')\n"
   ]
  },
  {
   "cell_type": "code",
   "execution_count": 23,
   "id": "30a36f81",
   "metadata": {},
   "outputs": [
    {
     "data": {
      "image/png": "[encoded data removed]",
      "text/plain": [
       "<Figure size 432x288 with 2 Axes>"
      ]
     },
     "metadata": {
      "needs_background": "light"
     },
     "output_type": "display_data"
    }
   ],
   "source": [
    "plot_cm_sgl(merged_df_pc, 'People-Centrism')"
   ]
  },
  {
   "cell_type": "code",
   "execution_count": 24,
   "id": "5e6d2866",
   "metadata": {},
   "outputs": [
    {
     "data": {
      "image/png": "[encoded data removed]",
      "text/plain": [
       "<Figure size 432x288 with 2 Axes>"
      ]
     },
     "metadata": {
      "needs_background": "light"
     },
     "output_type": "display_data"
    }
   ],
   "source": [
    "plot_cm_sgl(merged_df_ae, 'Anti-Elitism')"
   ]
  },
  {
   "cell_type": "code",
   "execution_count": 25,
   "id": "4e9e1d17",
   "metadata": {},
   "outputs": [
    {
     "data": {
      "image/png": "[encoded data removed]",
      "text/plain": [
       "<Figure size 432x288 with 2 Axes>"
      ]
     },
     "metadata": {
      "needs_background": "light"
     },
     "output_type": "display_data"
    }
   ],
   "source": [
    "plot_cm_sgl(merged_df_sov, 'Sovereignty')"
   ]
  },
  {
   "cell_type": "markdown",
   "id": "26dc2d15",
   "metadata": {},
   "source": [
    "## Quantity Threshold"
   ]
  },
  {
   "cell_type": "code",
   "execution_count": 26,
   "id": "bed8228c",
   "metadata": {},
   "outputs": [],
   "source": [
    "dev_labeled_qty = pd.read_csv('C:/Users/dschw/Documents/GitHub/Thesis/Experiments/End_Model_Performances/2_Threshold_Quantity/labeled_df_dev_threshold_qty.csv')\n",
    "## Plot confusion matrices - dev Set"
   ]
  },
  {
   "cell_type": "code",
   "execution_count": 27,
   "id": "bc2d89d9",
   "metadata": {},
   "outputs": [
    {
     "data": {
      "text/html": [
       "<div>\n",
       "<style scoped>\n",
       "    .dataframe tbody tr th:only-of-type {\n",
       "        vertical-align: middle;\n",
       "    }\n",
       "\n",
       "    .dataframe tbody tr th {\n",
       "        vertical-align: top;\n",
       "    }\n",
       "\n",
       "    .dataframe thead th {\n",
       "        text-align: right;\n",
       "    }\n",
       "</style>\n",
       "<table border=\"1\" class=\"dataframe\">\n",
       "  <thead>\n",
       "    <tr style=\"text-align: right;\">\n",
       "      <th></th>\n",
       "      <th>content</th>\n",
       "      <th>label</th>\n",
       "      <th>ID</th>\n",
       "      <th>text</th>\n",
       "      <th>Coder</th>\n",
       "      <th>#TS</th>\n",
       "      <th>#TS2</th>\n",
       "      <th>Codierstart_Lab</th>\n",
       "      <th>Medium</th>\n",
       "      <th>Author</th>\n",
       "      <th>...</th>\n",
       "      <th>text_prep</th>\n",
       "      <th>party</th>\n",
       "      <th>year</th>\n",
       "      <th>wording_matches</th>\n",
       "      <th>wording_sentence</th>\n",
       "      <th>wording_segments</th>\n",
       "      <th>match_count</th>\n",
       "      <th>Wording_sent_count</th>\n",
       "      <th>Unnamed: 0</th>\n",
       "      <th>ID_non</th>\n",
       "    </tr>\n",
       "    <tr>\n",
       "      <th>Unnamed: 0</th>\n",
       "      <th></th>\n",
       "      <th></th>\n",
       "      <th></th>\n",
       "      <th></th>\n",
       "      <th></th>\n",
       "      <th></th>\n",
       "      <th></th>\n",
       "      <th></th>\n",
       "      <th></th>\n",
       "      <th></th>\n",
       "      <th></th>\n",
       "      <th></th>\n",
       "      <th></th>\n",
       "      <th></th>\n",
       "      <th></th>\n",
       "      <th></th>\n",
       "      <th></th>\n",
       "      <th></th>\n",
       "      <th></th>\n",
       "      <th></th>\n",
       "      <th></th>\n",
       "    </tr>\n",
       "  </thead>\n",
       "  <tbody>\n",
       "    <tr>\n",
       "      <th>263</th>\n",
       "      <td>Budget. Die Österreichische Volkspartei ist üb...</td>\n",
       "      <td>0</td>\n",
       "      <td>au_pm_el_94_40004.txt</td>\n",
       "      <td>Text ID:\\nau_pm_el_94_40004.txt\\n\\nParty Manif...</td>\n",
       "      <td>stbu</td>\n",
       "      <td>1.405520e+09</td>\n",
       "      <td>1.405524e+09</td>\n",
       "      <td>Wed Jul 16 16:17:25 2014</td>\n",
       "      <td>1160</td>\n",
       "      <td>2.0</td>\n",
       "      <td>...</td>\n",
       "      <td>Der Erhard Busek Wirtschaftsplan. 1. Wirtschaf...</td>\n",
       "      <td>ovp</td>\n",
       "      <td>1994</td>\n",
       "      <td>[(1212883764967918647, 15, 33)]</td>\n",
       "      <td>[['Die Österreichische Volkspartei ist überzeu...</td>\n",
       "      <td>Budget. Die Österreichische Volkspartei ist üb...</td>\n",
       "      <td>1</td>\n",
       "      <td>1</td>\n",
       "      <td>NaN</td>\n",
       "      <td>NaN</td>\n",
       "    </tr>\n",
       "    <tr>\n",
       "      <th>297</th>\n",
       "      <td>Dass Rechtsextreme und Neonazis in der FPÖ ihr...</td>\n",
       "      <td>0</td>\n",
       "      <td>au_pr_el_13_010003.txt</td>\n",
       "      <td>Text-ID: at_pr_el_13_010003.txt\\n\\nPress Relea...</td>\n",
       "      <td>pagr</td>\n",
       "      <td>1.424939e+09</td>\n",
       "      <td>1.424940e+09</td>\n",
       "      <td>Thu Feb 26 09:26:01 2015</td>\n",
       "      <td>1150</td>\n",
       "      <td>2.0</td>\n",
       "      <td>...</td>\n",
       "      <td>Hitlergruß beim Wahlkampffinale der FPÖ - ein ...</td>\n",
       "      <td>spo</td>\n",
       "      <td>2013</td>\n",
       "      <td>[(1212883764967918647, 188, 200)]</td>\n",
       "      <td>[['Die FPÖ darf daher auf keinen Fall in die R...</td>\n",
       "      <td>Dass Rechtsextreme und Neonazis in der FPÖ ihr...</td>\n",
       "      <td>1</td>\n",
       "      <td>1</td>\n",
       "      <td>NaN</td>\n",
       "      <td>NaN</td>\n",
       "    </tr>\n",
       "    <tr>\n",
       "      <th>3127</th>\n",
       "      <td>Die SPD hingegen hat sich intensiv für die Ums...</td>\n",
       "      <td>0</td>\n",
       "      <td>de_pr_el_13_061277.txt</td>\n",
       "      <td>Text-ID: de_pr_el_13_061277.txt\\n\\nPress Relea...</td>\n",
       "      <td>nibr</td>\n",
       "      <td>1.435049e+09</td>\n",
       "      <td>1.435049e+09</td>\n",
       "      <td>Tue Jun 23 10:35:40 2015</td>\n",
       "      <td>1550</td>\n",
       "      <td>2.0</td>\n",
       "      <td>...</td>\n",
       "      <td>Zu dem nun veröffentlichten Behindertenbericht...</td>\n",
       "      <td>spd</td>\n",
       "      <td>2013</td>\n",
       "      <td>[(1212883764967918647, 285, 288)]</td>\n",
       "      <td>[['Stattdessen wurden von CDUCSU und FDP im Bu...</td>\n",
       "      <td>Die SPD hingegen hat sich intensiv für die Ums...</td>\n",
       "      <td>1</td>\n",
       "      <td>1</td>\n",
       "      <td>NaN</td>\n",
       "      <td>NaN</td>\n",
       "    </tr>\n",
       "    <tr>\n",
       "      <th>2667</th>\n",
       "      <td>SPD und Grüne stehen hingegen zur Energiewende...</td>\n",
       "      <td>0</td>\n",
       "      <td>de_pr_el_13_040017.txt</td>\n",
       "      <td>Text-ID: de_pr_el_13_040017.txt\\n\\nPress Relea...</td>\n",
       "      <td>rakr</td>\n",
       "      <td>1.417358e+09</td>\n",
       "      <td>1.417360e+09</td>\n",
       "      <td>Sun Nov 30 15:39:53 2014</td>\n",
       "      <td>1550</td>\n",
       "      <td>2.0</td>\n",
       "      <td>...</td>\n",
       "      <td>Zum Energiekonzept von Peer Steinbrück und Mat...</td>\n",
       "      <td>grune</td>\n",
       "      <td>2013</td>\n",
       "      <td>[(1212883764967918647, 53, 56)]</td>\n",
       "      <td>[['Das Konzept von Peer Steinbrück zeigt deutl...</td>\n",
       "      <td>SPD und Grüne stehen hingegen zur Energiewende...</td>\n",
       "      <td>1</td>\n",
       "      <td>1</td>\n",
       "      <td>NaN</td>\n",
       "      <td>NaN</td>\n",
       "    </tr>\n",
       "    <tr>\n",
       "      <th>1746</th>\n",
       "      <td>Zudem soll das Fahrzeuggewicht bei der Berechn...</td>\n",
       "      <td>0</td>\n",
       "      <td>cd_pr_el_11_050039.txt</td>\n",
       "      <td>Text-ID: cd_pr_el_11_050039.txt\\n\\nPress Relea...</td>\n",
       "      <td>pagr</td>\n",
       "      <td>1.417085e+09</td>\n",
       "      <td>1.417085e+09</td>\n",
       "      <td>Thu Nov 27 11:40:42 2014</td>\n",
       "      <td>1350</td>\n",
       "      <td>2.0</td>\n",
       "      <td>...</td>\n",
       "      <td>Text-ID: cd_pr_el_11_050039.txt Press Release ...</td>\n",
       "      <td>grune</td>\n",
       "      <td>2011</td>\n",
       "      <td>[(1212883764967918647, 221, 253)]</td>\n",
       "      <td>[['Erfolg fr die Stopp-Offroader-Initiative Au...</td>\n",
       "      <td>Zudem soll das Fahrzeuggewicht bei der Berechn...</td>\n",
       "      <td>1</td>\n",
       "      <td>1</td>\n",
       "      <td>NaN</td>\n",
       "      <td>NaN</td>\n",
       "    </tr>\n",
       "    <tr>\n",
       "      <th>...</th>\n",
       "      <td>...</td>\n",
       "      <td>...</td>\n",
       "      <td>...</td>\n",
       "      <td>...</td>\n",
       "      <td>...</td>\n",
       "      <td>...</td>\n",
       "      <td>...</td>\n",
       "      <td>...</td>\n",
       "      <td>...</td>\n",
       "      <td>...</td>\n",
       "      <td>...</td>\n",
       "      <td>...</td>\n",
       "      <td>...</td>\n",
       "      <td>...</td>\n",
       "      <td>...</td>\n",
       "      <td>...</td>\n",
       "      <td>...</td>\n",
       "      <td>...</td>\n",
       "      <td>...</td>\n",
       "      <td>...</td>\n",
       "      <td>...</td>\n",
       "    </tr>\n",
       "    <tr>\n",
       "      <th>1468</th>\n",
       "      <td>Die EU kündigt an, dass der bilaterale Weg für...</td>\n",
       "      <td>0</td>\n",
       "      <td>cd_pm_el_11_70005.txt</td>\n",
       "      <td>Text ID:\\ncd_pm_el_11_70005.txt\\n\\nParty Manif...</td>\n",
       "      <td>andi</td>\n",
       "      <td>1.413215e+09</td>\n",
       "      <td>1.413219e+09</td>\n",
       "      <td>Mon Oct 13 17:39:13 2014</td>\n",
       "      <td>1360</td>\n",
       "      <td>2.0</td>\n",
       "      <td>...</td>\n",
       "      <td>AUSSENPOLITIK Kein EU -Beitritt Das Ziel der S...</td>\n",
       "      <td>svp</td>\n",
       "      <td>2011</td>\n",
       "      <td>[]</td>\n",
       "      <td>[]</td>\n",
       "      <td>Die EU kündigt an, dass der bilaterale Weg für...</td>\n",
       "      <td>-1</td>\n",
       "      <td>2</td>\n",
       "      <td>NaN</td>\n",
       "      <td>NaN</td>\n",
       "    </tr>\n",
       "    <tr>\n",
       "      <th>2980</th>\n",
       "      <td>Kunert weiter: \"Bundesinnenministerium und DOS...</td>\n",
       "      <td>0</td>\n",
       "      <td>de_pr_el_13_051101.txt</td>\n",
       "      <td>Text-ID: de_pr_el_13_051101.txt\\n\\nPress Relea...</td>\n",
       "      <td>nibr</td>\n",
       "      <td>1.429732e+09</td>\n",
       "      <td>1.429733e+09</td>\n",
       "      <td>Wed Apr 22 21:51:49 2015</td>\n",
       "      <td>1550</td>\n",
       "      <td>2.0</td>\n",
       "      <td>...</td>\n",
       "      <td>NA Berlin (ots) - \"Nach der Teil-Veröffentlich...</td>\n",
       "      <td>dielinke</td>\n",
       "      <td>2013</td>\n",
       "      <td>[(1212883764967918647, 89, 91)]</td>\n",
       "      <td>[['Bundesinnenminister Friedrich verschleppt d...</td>\n",
       "      <td>Kunert weiter: \"Bundesinnenministerium und DOS...</td>\n",
       "      <td>1</td>\n",
       "      <td>1</td>\n",
       "      <td>NaN</td>\n",
       "      <td>NaN</td>\n",
       "    </tr>\n",
       "    <tr>\n",
       "      <th>369</th>\n",
       "      <td>Gemeinsame Schule und Ganztagsschule ausbauen ...</td>\n",
       "      <td>0</td>\n",
       "      <td>au_pr_el_13_010112.txt</td>\n",
       "      <td>Text-ID: at_pr_el_13_010112.txt\\n\\nPress Relea...</td>\n",
       "      <td>pagr</td>\n",
       "      <td>1.431422e+09</td>\n",
       "      <td>1.431422e+09</td>\n",
       "      <td>Tue May 12 11:14:30 2015</td>\n",
       "      <td>1150</td>\n",
       "      <td>2.0</td>\n",
       "      <td>...</td>\n",
       "      <td>Gemeinsame Schule und Ganztagsschule ausbauen ...</td>\n",
       "      <td>spo</td>\n",
       "      <td>2013</td>\n",
       "      <td>[(1212883764967918647, 69, 121)]</td>\n",
       "      <td>[['Kuntzl warnt davor, die österreichische Ent...</td>\n",
       "      <td>Gemeinsame Schule und Ganztagsschule ausbauen ...</td>\n",
       "      <td>1</td>\n",
       "      <td>1</td>\n",
       "      <td>NaN</td>\n",
       "      <td>NaN</td>\n",
       "    </tr>\n",
       "    <tr>\n",
       "      <th>923</th>\n",
       "      <td>Die Affäre ist also doppelt unappetitlich. Zum...</td>\n",
       "      <td>0</td>\n",
       "      <td>au_pr_el_13_050044.txt</td>\n",
       "      <td>Text-ID: at_pr_el_13_050044.txt\\n\\nPress Relea...</td>\n",
       "      <td>stbu</td>\n",
       "      <td>1.416653e+09</td>\n",
       "      <td>1.416654e+09</td>\n",
       "      <td>Sat Nov 22 11:35:12 2014</td>\n",
       "      <td>1150</td>\n",
       "      <td>2.0</td>\n",
       "      <td>...</td>\n",
       "      <td>Wiederholung des Films mit zwei getöteten Cobr...</td>\n",
       "      <td>fpo</td>\n",
       "      <td>2013</td>\n",
       "      <td>[(1212883764967918647, 245, 276)]</td>\n",
       "      <td>[['Die Affäre ist also doppelt unappetitlich.']]</td>\n",
       "      <td>Die Affäre ist also doppelt unappetitlich. Zum...</td>\n",
       "      <td>-1</td>\n",
       "      <td>2</td>\n",
       "      <td>NaN</td>\n",
       "      <td>NaN</td>\n",
       "    </tr>\n",
       "    <tr>\n",
       "      <th>1683</th>\n",
       "      <td>Text-ID: cd_pr_el_11_040006.txt Press Release ...</td>\n",
       "      <td>0</td>\n",
       "      <td>cd_pr_el_11_040006.txt</td>\n",
       "      <td>Text-ID: cd_pr_el_11_040006.txt\\n\\nPress Relea...</td>\n",
       "      <td>pagr</td>\n",
       "      <td>1.427199e+09</td>\n",
       "      <td>1.427200e+09</td>\n",
       "      <td>Tue Mar 24 13:17:21 2015</td>\n",
       "      <td>1350</td>\n",
       "      <td>2.0</td>\n",
       "      <td>...</td>\n",
       "      <td>Text-ID: cd_pr_el_11_040006.txt Press Release ...</td>\n",
       "      <td>fdp</td>\n",
       "      <td>2011</td>\n",
       "      <td>[(1212883764967918647, 50, 75)]</td>\n",
       "      <td>[['FDP.Die Liberalen begrsst, dass die stndert...</td>\n",
       "      <td>Text-ID: cd_pr_el_11_040006.txt Press Release ...</td>\n",
       "      <td>1</td>\n",
       "      <td>1</td>\n",
       "      <td>NaN</td>\n",
       "      <td>NaN</td>\n",
       "    </tr>\n",
       "  </tbody>\n",
       "</table>\n",
       "<p>277 rows × 182 columns</p>\n",
       "</div>"
      ],
      "text/plain": [
       "                                                      content  label  \\\n",
       "Unnamed: 0                                                             \n",
       "263         Budget. Die Österreichische Volkspartei ist üb...      0   \n",
       "297         Dass Rechtsextreme und Neonazis in der FPÖ ihr...      0   \n",
       "3127        Die SPD hingegen hat sich intensiv für die Ums...      0   \n",
       "2667        SPD und Grüne stehen hingegen zur Energiewende...      0   \n",
       "1746        Zudem soll das Fahrzeuggewicht bei der Berechn...      0   \n",
       "...                                                       ...    ...   \n",
       "1468        Die EU kündigt an, dass der bilaterale Weg für...      0   \n",
       "2980        Kunert weiter: \"Bundesinnenministerium und DOS...      0   \n",
       "369         Gemeinsame Schule und Ganztagsschule ausbauen ...      0   \n",
       "923         Die Affäre ist also doppelt unappetitlich. Zum...      0   \n",
       "1683        Text-ID: cd_pr_el_11_040006.txt Press Release ...      0   \n",
       "\n",
       "                                ID  \\\n",
       "Unnamed: 0                           \n",
       "263          au_pm_el_94_40004.txt   \n",
       "297         au_pr_el_13_010003.txt   \n",
       "3127        de_pr_el_13_061277.txt   \n",
       "2667        de_pr_el_13_040017.txt   \n",
       "1746        cd_pr_el_11_050039.txt   \n",
       "...                            ...   \n",
       "1468         cd_pm_el_11_70005.txt   \n",
       "2980        de_pr_el_13_051101.txt   \n",
       "369         au_pr_el_13_010112.txt   \n",
       "923         au_pr_el_13_050044.txt   \n",
       "1683        cd_pr_el_11_040006.txt   \n",
       "\n",
       "                                                         text Coder  \\\n",
       "Unnamed: 0                                                            \n",
       "263         Text ID:\\nau_pm_el_94_40004.txt\\n\\nParty Manif...  stbu   \n",
       "297         Text-ID: at_pr_el_13_010003.txt\\n\\nPress Relea...  pagr   \n",
       "3127        Text-ID: de_pr_el_13_061277.txt\\n\\nPress Relea...  nibr   \n",
       "2667        Text-ID: de_pr_el_13_040017.txt\\n\\nPress Relea...  rakr   \n",
       "1746        Text-ID: cd_pr_el_11_050039.txt\\n\\nPress Relea...  pagr   \n",
       "...                                                       ...   ...   \n",
       "1468        Text ID:\\ncd_pm_el_11_70005.txt\\n\\nParty Manif...  andi   \n",
       "2980        Text-ID: de_pr_el_13_051101.txt\\n\\nPress Relea...  nibr   \n",
       "369         Text-ID: at_pr_el_13_010112.txt\\n\\nPress Relea...  pagr   \n",
       "923         Text-ID: at_pr_el_13_050044.txt\\n\\nPress Relea...  stbu   \n",
       "1683        Text-ID: cd_pr_el_11_040006.txt\\n\\nPress Relea...  pagr   \n",
       "\n",
       "                     #TS          #TS2           Codierstart_Lab  Medium  \\\n",
       "Unnamed: 0                                                                 \n",
       "263         1.405520e+09  1.405524e+09  Wed Jul 16 16:17:25 2014    1160   \n",
       "297         1.424939e+09  1.424940e+09  Thu Feb 26 09:26:01 2015    1150   \n",
       "3127        1.435049e+09  1.435049e+09  Tue Jun 23 10:35:40 2015    1550   \n",
       "2667        1.417358e+09  1.417360e+09  Sun Nov 30 15:39:53 2014    1550   \n",
       "1746        1.417085e+09  1.417085e+09  Thu Nov 27 11:40:42 2014    1350   \n",
       "...                  ...           ...                       ...     ...   \n",
       "1468        1.413215e+09  1.413219e+09  Mon Oct 13 17:39:13 2014    1360   \n",
       "2980        1.429732e+09  1.429733e+09  Wed Apr 22 21:51:49 2015    1550   \n",
       "369         1.431422e+09  1.431422e+09  Tue May 12 11:14:30 2015    1150   \n",
       "923         1.416653e+09  1.416654e+09  Sat Nov 22 11:35:12 2014    1150   \n",
       "1683        1.427199e+09  1.427200e+09  Tue Mar 24 13:17:21 2015    1350   \n",
       "\n",
       "            Author  ...                                          text_prep  \\\n",
       "Unnamed: 0          ...                                                      \n",
       "263            2.0  ...  Der Erhard Busek Wirtschaftsplan. 1. Wirtschaf...   \n",
       "297            2.0  ...  Hitlergruß beim Wahlkampffinale der FPÖ - ein ...   \n",
       "3127           2.0  ...  Zu dem nun veröffentlichten Behindertenbericht...   \n",
       "2667           2.0  ...  Zum Energiekonzept von Peer Steinbrück und Mat...   \n",
       "1746           2.0  ...  Text-ID: cd_pr_el_11_050039.txt Press Release ...   \n",
       "...            ...  ...                                                ...   \n",
       "1468           2.0  ...  AUSSENPOLITIK Kein EU -Beitritt Das Ziel der S...   \n",
       "2980           2.0  ...  NA Berlin (ots) - \"Nach der Teil-Veröffentlich...   \n",
       "369            2.0  ...  Gemeinsame Schule und Ganztagsschule ausbauen ...   \n",
       "923            2.0  ...  Wiederholung des Films mit zwei getöteten Cobr...   \n",
       "1683           2.0  ...  Text-ID: cd_pr_el_11_040006.txt Press Release ...   \n",
       "\n",
       "               party  year                    wording_matches  \\\n",
       "Unnamed: 0                                                      \n",
       "263              ovp  1994    [(1212883764967918647, 15, 33)]   \n",
       "297              spo  2013  [(1212883764967918647, 188, 200)]   \n",
       "3127             spd  2013  [(1212883764967918647, 285, 288)]   \n",
       "2667           grune  2013    [(1212883764967918647, 53, 56)]   \n",
       "1746           grune  2011  [(1212883764967918647, 221, 253)]   \n",
       "...              ...   ...                                ...   \n",
       "1468             svp  2011                                 []   \n",
       "2980        dielinke  2013    [(1212883764967918647, 89, 91)]   \n",
       "369              spo  2013   [(1212883764967918647, 69, 121)]   \n",
       "923              fpo  2013  [(1212883764967918647, 245, 276)]   \n",
       "1683             fdp  2011    [(1212883764967918647, 50, 75)]   \n",
       "\n",
       "                                             wording_sentence  \\\n",
       "Unnamed: 0                                                      \n",
       "263         [['Die Österreichische Volkspartei ist überzeu...   \n",
       "297         [['Die FPÖ darf daher auf keinen Fall in die R...   \n",
       "3127        [['Stattdessen wurden von CDUCSU und FDP im Bu...   \n",
       "2667        [['Das Konzept von Peer Steinbrück zeigt deutl...   \n",
       "1746        [['Erfolg fr die Stopp-Offroader-Initiative Au...   \n",
       "...                                                       ...   \n",
       "1468                                                       []   \n",
       "2980        [['Bundesinnenminister Friedrich verschleppt d...   \n",
       "369         [['Kuntzl warnt davor, die österreichische Ent...   \n",
       "923          [['Die Affäre ist also doppelt unappetitlich.']]   \n",
       "1683        [['FDP.Die Liberalen begrsst, dass die stndert...   \n",
       "\n",
       "                                             wording_segments  match_count  \\\n",
       "Unnamed: 0                                                                   \n",
       "263         Budget. Die Österreichische Volkspartei ist üb...            1   \n",
       "297         Dass Rechtsextreme und Neonazis in der FPÖ ihr...            1   \n",
       "3127        Die SPD hingegen hat sich intensiv für die Ums...            1   \n",
       "2667        SPD und Grüne stehen hingegen zur Energiewende...            1   \n",
       "1746        Zudem soll das Fahrzeuggewicht bei der Berechn...            1   \n",
       "...                                                       ...          ...   \n",
       "1468        Die EU kündigt an, dass der bilaterale Weg für...           -1   \n",
       "2980        Kunert weiter: \"Bundesinnenministerium und DOS...            1   \n",
       "369         Gemeinsame Schule und Ganztagsschule ausbauen ...            1   \n",
       "923         Die Affäre ist also doppelt unappetitlich. Zum...           -1   \n",
       "1683        Text-ID: cd_pr_el_11_040006.txt Press Release ...            1   \n",
       "\n",
       "            Wording_sent_count Unnamed: 0  ID_non  \n",
       "Unnamed: 0                                         \n",
       "263                          1        NaN     NaN  \n",
       "297                          1        NaN     NaN  \n",
       "3127                         1        NaN     NaN  \n",
       "2667                         1        NaN     NaN  \n",
       "1746                         1        NaN     NaN  \n",
       "...                        ...        ...     ...  \n",
       "1468                         2        NaN     NaN  \n",
       "2980                         1        NaN     NaN  \n",
       "369                          1        NaN     NaN  \n",
       "923                          2        NaN     NaN  \n",
       "1683                         1        NaN     NaN  \n",
       "\n",
       "[277 rows x 182 columns]"
      ]
     },
     "execution_count": 27,
     "metadata": {},
     "output_type": "execute_result"
    }
   ],
   "source": [
    "# Merge labeled df with true labels\n",
    "dev_labeled_qty.set_index('Unnamed: 0', inplace=True)\n",
    "merged_df = dev_labeled_qty.join(dev)\n",
    "merged_df"
   ]
  },
  {
   "cell_type": "code",
   "execution_count": 28,
   "id": "b88f89c8",
   "metadata": {},
   "outputs": [],
   "source": [
    "y_true = merged_df.POPULIST\n",
    "y_pred = merged_df.label\n",
    "cm = confusion_matrix(y_true, y_pred)\n",
    "display_labels = [0,1]"
   ]
  },
  {
   "cell_type": "code",
   "execution_count": 29,
   "id": "f644cd72",
   "metadata": {},
   "outputs": [
    {
     "name": "stdout",
     "output_type": "stream",
     "text": [
      "              precision    recall  f1-score   support\n",
      "\n",
      "         0.0       0.70      0.97      0.81       189\n",
      "         1.0       0.62      0.09      0.16        88\n",
      "\n",
      "    accuracy                           0.69       277\n",
      "   macro avg       0.66      0.53      0.49       277\n",
      "weighted avg       0.67      0.69      0.60       277\n",
      "\n"
     ]
    }
   ],
   "source": [
    "print(classification_report(y_true, y_pred))"
   ]
  },
  {
   "cell_type": "code",
   "execution_count": 30,
   "id": "6440767b",
   "metadata": {},
   "outputs": [
    {
     "data": {
      "image/png": "[encoded data removed]",
      "text/plain": [
       "<Figure size 432x288 with 2 Axes>"
      ]
     },
     "metadata": {
      "needs_background": "light"
     },
     "output_type": "display_data"
    }
   ],
   "source": [
    "ax= plt.subplot()\n",
    "sns.heatmap(cm, annot=True, fmt='g', ax=ax);  #annot=True to annotate cells, ftm='g' to disable scientific notation\n",
    "\n",
    "# labels, title and ticks\n",
    "ax.set_xlabel('Predicted labels');ax.set_ylabel('True labels'); \n",
    "ax.xaxis.set_ticklabels(['Non-populist', 'Populist']); ax.yaxis.set_ticklabels(['Non-populist', 'Populist']);\n",
    "plt.savefig('images/cm_label_model_qty_thres_all.png')"
   ]
  },
  {
   "cell_type": "markdown",
   "id": "42b7bf9a",
   "metadata": {},
   "source": [
    "## Probability Threshold"
   ]
  },
  {
   "cell_type": "markdown",
   "id": "ba5f3a95",
   "metadata": {},
   "source": [
    "### Generate P-R-Curve"
   ]
  },
  {
   "cell_type": "code",
   "execution_count": 127,
   "id": "6b6a57fb",
   "metadata": {},
   "outputs": [],
   "source": [
    "from sklearn.metrics import roc_curve, precision_recall_curve"
   ]
  },
  {
   "cell_type": "code",
   "execution_count": 128,
   "id": "879aaa3d",
   "metadata": {},
   "outputs": [],
   "source": [
    "train_prob = pd.read_csv('C:/Users/dschw/Documents/GitHub/Thesis/Experiments/End_Model_Performances/1_Full/probs_train_filtered.csv')\n",
    "dev_prob = pd.read_csv('C:/Users/dschw/Documents/GitHub/Thesis/Experiments/End_Model_Performances/1_Full/probs_dev_filtered.csv')"
   ]
  },
  {
   "cell_type": "code",
   "execution_count": 129,
   "id": "af1af181",
   "metadata": {},
   "outputs": [],
   "source": [
    "train_prob = train_prob['1'].to_list()\n",
    "dev_prob = dev_prob['1'].to_list()"
   ]
  },
  {
   "cell_type": "code",
   "execution_count": 132,
   "id": "aba9c607",
   "metadata": {},
   "outputs": [],
   "source": [
    "tpr, fpr, thresholds = roc_curve(dev.POPULIST.to_list(),dev_prob)"
   ]
  },
  {
   "cell_type": "code",
   "execution_count": 133,
   "id": "49cba8e1",
   "metadata": {},
   "outputs": [],
   "source": [
    "precision, recall, thresholds = precision_recall_curve(dev.POPULIST.to_list(),dev_prob)"
   ]
  },
  {
   "cell_type": "code",
   "execution_count": 134,
   "id": "f1c55a71",
   "metadata": {},
   "outputs": [
    {
     "data": {
      "text/plain": [
       "0.9997031956354656"
      ]
     },
     "execution_count": 134,
     "metadata": {},
     "output_type": "execute_result"
    }
   ],
   "source": [
    "optimal_idx = np.argmax(tpr)\n",
    "optimal_threshold = thresholds[optimal_idx]\n",
    "optimal_threshold"
   ]
  },
  {
   "cell_type": "code",
   "execution_count": 135,
   "id": "65b47cbd",
   "metadata": {},
   "outputs": [
    {
     "name": "stderr",
     "output_type": "stream",
     "text": [
      "<ipython-input-135-91086b880fad>:2: RuntimeWarning: invalid value encountered in true_divide\n",
      "  fscore = (2 * precision * recall) / (precision + recall)\n"
     ]
    }
   ],
   "source": [
    "# convert to f score\n",
    "fscore = (2 * precision * recall) / (precision + recall)"
   ]
  },
  {
   "cell_type": "code",
   "execution_count": 136,
   "id": "7eb65821",
   "metadata": {},
   "outputs": [],
   "source": [
    "fscore = np.nan_to_num(fscore)"
   ]
  },
  {
   "cell_type": "code",
   "execution_count": 137,
   "id": "f168a2d5",
   "metadata": {},
   "outputs": [],
   "source": [
    "# locate the index of the largest f score\n",
    "ix = np.argmax(fscore)"
   ]
  },
  {
   "cell_type": "code",
   "execution_count": 138,
   "id": "b4e79ba2",
   "metadata": {},
   "outputs": [
    {
     "data": {
      "text/plain": [
       "0.36633663366336633"
      ]
     },
     "execution_count": 138,
     "metadata": {},
     "output_type": "execute_result"
    }
   ],
   "source": [
    "precision[ix]"
   ]
  },
  {
   "cell_type": "code",
   "execution_count": 139,
   "id": "38404f90",
   "metadata": {},
   "outputs": [
    {
     "data": {
      "text/plain": [
       "0.5103448275862069"
      ]
     },
     "execution_count": 139,
     "metadata": {},
     "output_type": "execute_result"
    }
   ],
   "source": [
    "fscore[ix]"
   ]
  },
  {
   "cell_type": "code",
   "execution_count": 140,
   "id": "17eb08c4",
   "metadata": {},
   "outputs": [
    {
     "data": {
      "text/plain": [
       "0.9790379910236866"
      ]
     },
     "execution_count": 140,
     "metadata": {},
     "output_type": "execute_result"
    }
   ],
   "source": [
    "thresholds[ix]"
   ]
  },
  {
   "cell_type": "code",
   "execution_count": 162,
   "id": "2c3429bd",
   "metadata": {},
   "outputs": [
    {
     "data": {
      "image/png": "[encoded data removed]",
      "text/plain": [
       "<Figure size 432x288 with 1 Axes>"
      ]
     },
     "metadata": {
      "needs_background": "light"
     },
     "output_type": "display_data"
    }
   ],
   "source": [
    "plt.plot(recall, precision, marker='.', zorder=-1)\n",
    "plt.xlabel('Recall')\n",
    "plt.ylabel('Precision')\n",
    "plt.scatter(recall[ix], precision[ix], zorder=1, marker='o', color='black', label='Optimal Threshold')\n",
    "plt.legend()\n",
    "plt.savefig('images/p-r-curve.png')"
   ]
  },
  {
   "cell_type": "code",
   "execution_count": 144,
   "id": "5c590c61",
   "metadata": {},
   "outputs": [
    {
     "data": {
      "image/png": "[encoded data removed]",
      "text/plain": [
       "<Figure size 432x288 with 1 Axes>"
      ]
     },
     "metadata": {
      "needs_background": "light"
     },
     "output_type": "display_data"
    }
   ],
   "source": [
    "plt.plot(fpr, tpr, marker='.', label='Logistic')\n",
    "plt.xlabel('False Positive Rate')\n",
    "plt.ylabel('True Positive Rate')\n",
    "# show the plot\n",
    "plt.savefig('images/roc_curve.png')"
   ]
  },
  {
   "cell_type": "code",
   "execution_count": 149,
   "id": "4c894263",
   "metadata": {},
   "outputs": [],
   "source": [
    "dev_labeled_prob = pd.read_csv('C:/Users/dschw/Documents/GitHub/Thesis/Experiments/End_Model_Performances/3_Threshold_Probability/labeled_df_dev_threshold_prob.csv')\n",
    "## Plot confusion matrices - dev Set"
   ]
  },
  {
   "cell_type": "code",
   "execution_count": 150,
   "id": "7f46d3f2",
   "metadata": {},
   "outputs": [],
   "source": [
    "# Merge labeled df with true labels\n",
    "dev_labeled_prob.set_index('Unnamed: 0', inplace=True)\n",
    "merged_df = dev_labeled_prob.join(dev)"
   ]
  },
  {
   "cell_type": "code",
   "execution_count": 151,
   "id": "11c44564",
   "metadata": {},
   "outputs": [],
   "source": [
    "y_true = dev.POPULIST.astype(int).to_list()\n",
    "y_pred = dev_labeled_prob.label.to_list()\n",
    "cm = confusion_matrix(y_true, y_pred)\n",
    "display_labels = [0,1]"
   ]
  },
  {
   "cell_type": "code",
   "execution_count": 152,
   "id": "6f25873a",
   "metadata": {},
   "outputs": [
    {
     "name": "stdout",
     "output_type": "stream",
     "text": [
      "              precision    recall  f1-score   support\n",
      "\n",
      "           0       0.81      0.32      0.46       189\n",
      "           1       0.37      0.84      0.51        88\n",
      "\n",
      "    accuracy                           0.49       277\n",
      "   macro avg       0.59      0.58      0.49       277\n",
      "weighted avg       0.67      0.49      0.48       277\n",
      "\n"
     ]
    }
   ],
   "source": [
    "print(classification_report(y_true, y_pred))"
   ]
  },
  {
   "cell_type": "code",
   "execution_count": 163,
   "id": "56c3f4db",
   "metadata": {},
   "outputs": [
    {
     "data": {
      "image/png": "[encoded data removed]",
      "text/plain": [
       "<Figure size 432x288 with 2 Axes>"
      ]
     },
     "metadata": {
      "needs_background": "light"
     },
     "output_type": "display_data"
    }
   ],
   "source": [
    "ax= plt.subplot()\n",
    "sns.heatmap(cm, annot=True, fmt='g', ax=ax);  #annot=True to annotate cells, ftm='g' to disable scientific notation\n",
    "\n",
    "# labels, title and ticks\n",
    "ax.set_xlabel('Predicted labels');ax.set_ylabel('True labels'); \n",
    "ax.xaxis.set_ticklabels(['Non-populist', 'Populist']); ax.yaxis.set_ticklabels(['Non-populist', 'Populist']);\n",
    "plt.savefig('images/cm_label_model_prob_thres_all.png')"
   ]
  },
  {
   "cell_type": "code",
   "execution_count": null,
   "id": "fa845719",
   "metadata": {},
   "outputs": [],
   "source": []
  },
  {
   "cell_type": "code",
   "execution_count": null,
   "id": "6a4c9f8b",
   "metadata": {},
   "outputs": [],
   "source": []
  }
 ],
 "metadata": {
  "kernelspec": {
   "display_name": "Python 3",
   "language": "python",
   "name": "python3"
  },
  "language_info": {
   "codemirror_mode": {
    "name": "ipython",
    "version": 3
   },
   "file_extension": ".py",
   "mimetype": "text/x-python",
   "name": "python",
   "nbconvert_exporter": "python",
   "pygments_lexer": "ipython3",
   "version": "3.8.8"
  }
 },
 "nbformat": 4,
 "nbformat_minor": 5
}
