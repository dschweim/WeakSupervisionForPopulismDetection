{
 "cells": [
  {
   "cell_type": "code",
   "execution_count": 143,
   "id": "b09f1623",
   "metadata": {},
   "outputs": [],
   "source": [
    "import pandas as pd\n",
    "from sklearn.model_selection import train_test_split"
   ]
  },
  {
   "cell_type": "markdown",
   "id": "7ad9ce63",
   "metadata": {},
   "source": [
    "## Import Dataset with generated labels and with true labels"
   ]
  },
  {
   "cell_type": "code",
   "execution_count": 144,
   "id": "1d8fd112",
   "metadata": {},
   "outputs": [],
   "source": [
    "train_labeled = pd.read_csv('C:/Users/dschw/Documents/GitHub/Thesis/Output/Snorkel/labeled_df_train.csv')\n",
    "## Plot confusion matrices - Train Set"
   ]
  },
  {
   "cell_type": "code",
   "execution_count": 145,
   "id": "4fbbc319",
   "metadata": {},
   "outputs": [],
   "source": [
    "def generate_train_dev_test_split(df):\n",
    "    \"\"\"\n",
    "    Generate train dev test split\n",
    "    :param df: Dataset to split\n",
    "    :type df: DataFrame\n",
    "    :return: Returns three datasets\n",
    "    :rtype: DataFrame, DataFrame, DataFrame\n",
    "    \"\"\"\n",
    "\n",
    "    # Split into 60% train, 20% dev and 20% test\n",
    "    rest, test = train_test_split(df, test_size=0.2, random_state=42, shuffle=True, stratify=df.POPULIST)\n",
    "    train, dev = train_test_split(rest, test_size=0.1, random_state=42, shuffle=True, stratify=rest.POPULIST)\n",
    "\n",
    "    return train, dev, test"
   ]
  },
  {
   "cell_type": "code",
   "execution_count": 146,
   "id": "ff3a2bf4",
   "metadata": {},
   "outputs": [],
   "source": [
    "nccr_df_prep = pd.read_csv('C:/Users/dschw/Documents/GitHub/Thesis/Output/NCCR_combined_corpus_DE_wording_available_prep.csv')\n",
    "\n",
    "# Generate Train, Dev, Test Split\n",
    "train, dev, test = generate_train_dev_test_split(nccr_df_prep)"
   ]
  },
  {
   "cell_type": "code",
   "execution_count": 147,
   "id": "240ee07c",
   "metadata": {},
   "outputs": [],
   "source": [
    "train_labeled.set_index('Unnamed: 0', inplace=True)"
   ]
  },
  {
   "cell_type": "code",
   "execution_count": 148,
   "id": "5cdcccea",
   "metadata": {},
   "outputs": [],
   "source": [
    "merged_df = train_labeled.join(train)"
   ]
  },
  {
   "cell_type": "markdown",
   "id": "678a7c3e",
   "metadata": {},
   "source": [
    "## Plot confusion matrices - Train Set"
   ]
  },
  {
   "cell_type": "markdown",
   "id": "049adc72",
   "metadata": {},
   "source": [
    "### Overall"
   ]
  },
  {
   "cell_type": "code",
   "execution_count": 149,
   "id": "d68023b4",
   "metadata": {},
   "outputs": [],
   "source": [
    "from sklearn.metrics import confusion_matrix, plot_confusion_matrix, classification_report\n",
    "import matplotlib.pyplot as plt\n",
    "import numpy as np\n",
    "import pylab as pl"
   ]
  },
  {
   "cell_type": "code",
   "execution_count": 153,
   "id": "2a2b0d44",
   "metadata": {},
   "outputs": [],
   "source": [
    "y_true = merged_df.POPULIST\n",
    "y_pred = merged_df.label\n",
    "cm = confusion_matrix(y_true, y_pred)\n",
    "display_labels = [0,1]"
   ]
  },
  {
   "cell_type": "code",
   "execution_count": 154,
   "id": "142e11ab",
   "metadata": {},
   "outputs": [
    {
     "name": "stdout",
     "output_type": "stream",
     "text": [
      "              precision    recall  f1-score   support\n",
      "\n",
      "         0.0       0.93      0.03      0.06      1696\n",
      "         1.0       0.32      0.99      0.49       789\n",
      "\n",
      "    accuracy                           0.34      2485\n",
      "   macro avg       0.63      0.51      0.27      2485\n",
      "weighted avg       0.74      0.34      0.20      2485\n",
      "\n"
     ]
    }
   ],
   "source": [
    "print(classification_report(y_true, y_pred))"
   ]
  },
  {
   "cell_type": "code",
   "execution_count": 155,
   "id": "06ba3d4c",
   "metadata": {},
   "outputs": [
    {
     "data": {
      "image/png": "[encoded data removed]",
      "text/plain": [
       "<Figure size 432x288 with 2 Axes>"
      ]
     },
     "metadata": {
      "needs_background": "light"
     },
     "output_type": "display_data"
    }
   ],
   "source": [
    "import seaborn as sns\n",
    "import matplotlib.pyplot as plt     \n",
    "\n",
    "ax= plt.subplot()\n",
    "sns.heatmap(cm, annot=True, fmt='g', ax=ax);  #annot=True to annotate cells, ftm='g' to disable scientific notation\n",
    "\n",
    "# labels, title and ticks\n",
    "ax.set_xlabel('Predicted labels');ax.set_ylabel('True labels'); \n",
    "ax.set_title('Confusion Matrix'); \n",
    "ax.xaxis.set_ticklabels(['non-populist', 'populist']); ax.yaxis.set_ticklabels(['non-populist', 'populist']);\n",
    "plt.savefig('cm_label_model_all.png')"
   ]
  },
  {
   "cell_type": "markdown",
   "id": "bba4a83c",
   "metadata": {},
   "source": [
    "### Per dimension (AE,PC,Sov)"
   ]
  },
  {
   "cell_type": "code",
   "execution_count": 156,
   "id": "e27856eb",
   "metadata": {},
   "outputs": [
    {
     "name": "stderr",
     "output_type": "stream",
     "text": [
      "<ipython-input-156-56a9a00bf5e8>:4: SettingWithCopyWarning: \n",
      "A value is trying to be set on a copy of a slice from a DataFrame.\n",
      "Try using .loc[row_indexer,col_indexer] = value instead\n",
      "\n",
      "See the caveats in the documentation: https://pandas.pydata.org/pandas-docs/stable/user_guide/indexing.html#returning-a-view-versus-a-copy\n",
      "  merged_df_sov['POPULIST'] = merged_df_sov.POPULIST.astype(int)\n",
      "<ipython-input-156-56a9a00bf5e8>:5: SettingWithCopyWarning: \n",
      "A value is trying to be set on a copy of a slice from a DataFrame.\n",
      "Try using .loc[row_indexer,col_indexer] = value instead\n",
      "\n",
      "See the caveats in the documentation: https://pandas.pydata.org/pandas-docs/stable/user_guide/indexing.html#returning-a-view-versus-a-copy\n",
      "  merged_df_sov['label'] = merged_df_sov.label.astype(int)\n"
     ]
    }
   ],
   "source": [
    "merged_df_pc = merged_df.loc[merged_df.POPULIST_PeopleCent == 1]\n",
    "merged_df_ae = merged_df.loc[merged_df.POPULIST_AntiElite == 1]\n",
    "merged_df_sov = merged_df.loc[merged_df.POPULIST_Sovereign == 1]\n",
    "merged_df_sov['POPULIST'] = merged_df_sov.POPULIST.astype(int)\n",
    "merged_df_sov['label'] = merged_df_sov.label.astype(int)"
   ]
  },
  {
   "cell_type": "code",
   "execution_count": 157,
   "id": "692b63d6",
   "metadata": {},
   "outputs": [],
   "source": [
    "tn, fp, fn, tp = confusion_matrix(y_true, y_pred).ravel()"
   ]
  },
  {
   "cell_type": "code",
   "execution_count": 158,
   "id": "134d5ee5",
   "metadata": {},
   "outputs": [],
   "source": [
    "def plot_cm(df, name):\n",
    "    \n",
    "    y_true = df.POPULIST\n",
    "    y_pred = df.label\n",
    "    \n",
    "    cm = confusion_matrix(y_true, y_pred)\n",
    "    \n",
    "    ax= plt.subplot()\n",
    "    sns.heatmap(cm, annot=True, fmt='g', ax=ax);  #annot=True to annotate cells, ftm='g' to disable scientific notation\n",
    "\n",
    "    # labels, title and ticks\n",
    "    ax.set_xlabel('Predicted labels');ax.set_ylabel('True labels');\n",
    "    ax.set_title('Confusion Matrix '+ name); \n",
    "    ax.xaxis.set_ticklabels(['non-populist', 'populist']); ax.yaxis.set_ticklabels(['non-populist', 'populist']);\n",
    "    plt.savefig('cm_label_model_' + name + '.png')"
   ]
  },
  {
   "cell_type": "code",
   "execution_count": 159,
   "id": "770faf1a",
   "metadata": {},
   "outputs": [],
   "source": [
    "def plot_cm_sgl(df, name):\n",
    "    \n",
    "    y_true = df.POPULIST\n",
    "    y_pred = df.label\n",
    "    \n",
    "    cm = confusion_matrix(y_true, y_pred)\n",
    "    \n",
    "    ax= plt.subplot()\n",
    "    sns.heatmap(cm, annot=True, fmt='g', ax=ax);  #annot=True to annotate cells, ftm='g' to disable scientific notation\n",
    "\n",
    "    # labels, title and ticks\n",
    "    ax.set_xlabel('Predicted labels');ax.set_ylabel('True labels');\n",
    "    ax.set_title('Confusion Matrix '+ name); \n",
    "    ax.xaxis.set_ticklabels(['populist']); ax.yaxis.set_ticklabels(['populist']);\n",
    "    plt.savefig('cm_label_model_' + name + '.png')\n"
   ]
  },
  {
   "cell_type": "code",
   "execution_count": 160,
   "id": "30a36f81",
   "metadata": {},
   "outputs": [
    {
     "data": {
      "image/png": "[encoded data removed]",
      "text/plain": [
       "<Figure size 432x288 with 2 Axes>"
      ]
     },
     "metadata": {
      "needs_background": "light"
     },
     "output_type": "display_data"
    }
   ],
   "source": [
    "plot_cm_sgl(merged_df_pc, 'People-Centrism')"
   ]
  },
  {
   "cell_type": "code",
   "execution_count": 161,
   "id": "5e6d2866",
   "metadata": {},
   "outputs": [
    {
     "data": {
      "image/png": "[encoded data removed]",
      "text/plain": [
       "<Figure size 432x288 with 2 Axes>"
      ]
     },
     "metadata": {
      "needs_background": "light"
     },
     "output_type": "display_data"
    }
   ],
   "source": [
    "plot_cm(merged_df_ae, 'Anti-Elitism')"
   ]
  },
  {
   "cell_type": "code",
   "execution_count": 162,
   "id": "4e9e1d17",
   "metadata": {},
   "outputs": [
    {
     "data": {
      "image/png": "[encoded data removed]",
      "text/plain": [
       "<Figure size 432x288 with 2 Axes>"
      ]
     },
     "metadata": {
      "needs_background": "light"
     },
     "output_type": "display_data"
    }
   ],
   "source": [
    "plot_cm_sgl(merged_df_sov, 'Sovereignty')"
   ]
  },
  {
   "cell_type": "code",
   "execution_count": 186,
   "id": "6b6a57fb",
   "metadata": {},
   "outputs": [],
   "source": [
    "from sklearn.metrics import roc_curve, precision_recall_curve"
   ]
  },
  {
   "cell_type": "code",
   "execution_count": 188,
   "id": "fa4c92a5",
   "metadata": {},
   "outputs": [],
   "source": [
    "train_prob = pd.read_csv('C:/Users/dschw/Documents/file.csv')"
   ]
  },
  {
   "cell_type": "code",
   "execution_count": 189,
   "id": "08e78497",
   "metadata": {},
   "outputs": [],
   "source": [
    "train_prob = train_prob['1'].to_list()"
   ]
  },
  {
   "cell_type": "code",
   "execution_count": 212,
   "id": "fdcd4e6c",
   "metadata": {},
   "outputs": [],
   "source": [
    "tpr, fpr, thresholds = roc_curve(train.POPULIST.to_list(),train_prob)"
   ]
  },
  {
   "cell_type": "code",
   "execution_count": 213,
   "id": "7d29106b",
   "metadata": {},
   "outputs": [
    {
     "data": {
      "text/plain": [
       "0.9999850006894022"
      ]
     },
     "execution_count": 213,
     "metadata": {},
     "output_type": "execute_result"
    }
   ],
   "source": [
    "optimal_idx = np.argmax(tpr - fpr)\n",
    "optimal_threshold = thresholds[optimal_idx]\n",
    "optimal_threshold"
   ]
  },
  {
   "cell_type": "code",
   "execution_count": 216,
   "id": "0d40585c",
   "metadata": {},
   "outputs": [
    {
     "data": {
      "image/png": "[encoded data removed]",
      "text/plain": [
       "<Figure size 432x288 with 1 Axes>"
      ]
     },
     "metadata": {
      "needs_background": "light"
     },
     "output_type": "display_data"
    }
   ],
   "source": [
    "plt.plot(fpr, tpr, marker='.', label='Logistic')\n",
    "plt.xlabel('False Positive Rate')\n",
    "plt.ylabel('True Positive Rate')\n",
    "# show the plot\n",
    "plt.show()"
   ]
  },
  {
   "cell_type": "code",
   "execution_count": null,
   "id": "1c30f429",
   "metadata": {},
   "outputs": [],
   "source": [
    "class_balanc"
   ]
  }
 ],
 "metadata": {
  "kernelspec": {
   "display_name": "Python 3",
   "language": "python",
   "name": "python3"
  },
  "language_info": {
   "codemirror_mode": {
    "name": "ipython",
    "version": 3
   },
   "file_extension": ".py",
   "mimetype": "text/x-python",
   "name": "python",
   "nbconvert_exporter": "python",
   "pygments_lexer": "ipython3",
   "version": "3.8.8"
  }
 },
 "nbformat": 4,
 "nbformat_minor": 5
}
