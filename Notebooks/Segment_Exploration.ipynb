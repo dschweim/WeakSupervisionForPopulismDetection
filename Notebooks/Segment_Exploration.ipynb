{
 "cells": [
  {
   "cell_type": "code",
   "execution_count": 416,
   "metadata": {},
   "outputs": [],
   "source": [
    "import spacy\n",
    "import pandas as pd\n",
    "from spacy.matcher import PhraseMatcher\n",
    "from spacy.tokens import Doc"
   ]
  },
  {
   "cell_type": "code",
   "execution_count": 376,
   "metadata": {},
   "outputs": [],
   "source": [
    "df = pd.read_csv(\"C:/Users/dschw/Documents/GitHub/Thesis/Output/NCCR_combined_corpus_DE_wording_available_TEST.csv\")"
   ]
  },
  {
   "cell_type": "code",
   "execution_count": 394,
   "metadata": {},
   "outputs": [
    {
     "data": {
      "text/plain": [
       "<spacy.pipeline.sentencizer.Sentencizer at 0x29940cfab00>"
      ]
     },
     "execution_count": 394,
     "metadata": {},
     "output_type": "execute_result"
    }
   ],
   "source": [
    "nlp = spacy.load(\"de_core_news_lg\", exclude=['tok2vec', 'tagger', 'morphologizer', 'parser',\n",
    "                         'attribute_ruler', 'lemmatizer'])\n",
    "\n",
    "nlp.add_pipe(\"sentencizer\")\n",
    "\n"
   ]
  },
  {
   "cell_type": "code",
   "execution_count": 395,
   "metadata": {},
   "outputs": [],
   "source": [
    "def standardize_text(text):\n",
    "    # Replace special characters #todo: simplify replacement\n",
    "    text = text.replace(\"ä\", \"ae\").replace(\"ü\", \"ue\").replace(\"ö\", \"oe\").replace(\"Ö\", \"Oe\").replace(\"Ä\", \"Ae\").replace(\"Ü\", \"Ue\").replace(\"ß\", \"ss\").replace(\"@\", \"\").replace(\"/\", \"\")\n",
    "    text = text.replace(\"ç\", \"c\"). replace(\"\", \"\")\n",
    "    \n",
    "    text = text.lower()\n",
    "    text = \" \".join(text.split())\n",
    "\n",
    "    return text"
   ]
  },
  {
   "cell_type": "code",
   "execution_count": 396,
   "metadata": {},
   "outputs": [],
   "source": [
    "def standardize_wording(wording):\n",
    "    # Replace special characters #todo: simplify replacement\n",
    "    wording = wording.replace(\"/\", \"\").replace(\"@\", \"\").replace(\"<ord:65430>\", \"\")\n",
    "    wording = \" \".join(wording.split())\n",
    "\n",
    "    return wording"
   ]
  },
  {
   "cell_type": "code",
   "execution_count": 397,
   "metadata": {},
   "outputs": [],
   "source": [
    "df['text_prep'] = df['text_prep'].apply(lambda x: standardize_text(x))"
   ]
  },
  {
   "cell_type": "code",
   "execution_count": 398,
   "metadata": {},
   "outputs": [],
   "source": [
    "df['Wording'] = df['Wording'].apply(lambda x: standardize_wording(x))"
   ]
  },
  {
   "cell_type": "code",
   "execution_count": 400,
   "metadata": {},
   "outputs": [
    {
     "data": {
      "text/plain": [
       "0      \"bucher fordert ehrenerklaerung von allen parl...\n",
       "1      na berlin (ots) - der rheinland-pfaelzische fi...\n",
       "2      wallner: gruene transparenz-offensive soll kla...\n",
       "3      zum geheimdienstskandal weltweit umfassender a...\n",
       "4      \"genug gezahlt - ueberstunden steuerfrei\", \"jo...\n",
       "                             ...                        \n",
       "944    na berlin (ots) - buendnis 90die gruenen haben...\n",
       "945    na berlin. vor der parlamentswahl in simbabwe ...\n",
       "946    na muenchen die 600 plaetze der festhalle des ...\n",
       "947    bilaterale ja eu-beitritt nein. dank den bilat...\n",
       "948    na bemaengelte oekonomisierung von ehe und fam...\n",
       "Name: text_prep, Length: 949, dtype: object"
      ]
     },
     "execution_count": 400,
     "metadata": {},
     "output_type": "execute_result"
    }
   ],
   "source": [
    "df['text_prep'] "
   ]
  },
  {
   "cell_type": "code",
   "execution_count": 401,
   "metadata": {
    "scrolled": true
   },
   "outputs": [
    {
     "data": {
      "text/plain": [
       "0      bucher fordert ehrenerklaerung von allen parla...\n",
       "1      sein parteikollege, der rheinland-pfaelzische ...\n",
       "2      das team stronach hat bis april 2013 laut rech...\n",
       "3                                                    wir\n",
       "4      waehrend andere parteien mit nackter haut vers...\n",
       "                             ...                        \n",
       "944                                              gruenen\n",
       "945    die fdp-bundestagsfraktion fordert alle staatl...\n",
       "946                                      die altparteien\n",
       "947                                                  svp\n",
       "948                                        norbert bluem\n",
       "Name: Wording, Length: 949, dtype: object"
      ]
     },
     "execution_count": 401,
     "metadata": {},
     "output_type": "execute_result"
    }
   ],
   "source": [
    "df['Wording'] "
   ]
  },
  {
   "cell_type": "code",
   "execution_count": 425,
   "metadata": {},
   "outputs": [],
   "source": [
    "df['doc'] = list(nlp.pipe(df['text_prep']))\n",
    "df['wording_doc'] = list(nlp.pipe(df['Wording']))\n",
    "\n",
    "\n"
   ]
  },
  {
   "cell_type": "code",
   "execution_count": 424,
   "metadata": {},
   "outputs": [
    {
     "data": {
      "text/plain": [
       "Das ist ein Test der "
      ]
     },
     "execution_count": 424,
     "metadata": {},
     "output_type": "execute_result"
    }
   ],
   "source": [
    "doc = nlp('Das ist ein Test der das Ganze prüft')\n",
    "get_sub_wording(doc)"
   ]
  },
  {
   "cell_type": "code",
   "execution_count": 436,
   "metadata": {},
   "outputs": [],
   "source": [
    "def get_sub_wording(wording):\n",
    "    doc2 = Doc(wording.vocab, words=[t.text for i, t in enumerate(wording) if i <3])\n",
    "    return doc2 \n",
    "    \n"
   ]
  },
  {
   "cell_type": "code",
   "execution_count": 437,
   "metadata": {},
   "outputs": [],
   "source": [
    "df['wording_doc'] = df['wording_doc'].apply(lambda x: get_sub_wording(x))"
   ]
  },
  {
   "cell_type": "code",
   "execution_count": 438,
   "metadata": {},
   "outputs": [
    {
     "data": {
      "text/plain": [
       "0          (bucher, fordert, ehrenerklaerung)\n",
       "1                    (sein, parteikollege, ,)\n",
       "2                       (das, team, stronach)\n",
       "3                                       (wir)\n",
       "4                (waehrend, andere, parteien)\n",
       "                        ...                  \n",
       "944                                 (gruenen)\n",
       "945    (die, fdp-bundestagsfraktion, fordert)\n",
       "946                        (die, altparteien)\n",
       "947                                     (svp)\n",
       "948                          (norbert, bluem)\n",
       "Name: wording_doc, Length: 949, dtype: object"
      ]
     },
     "execution_count": 438,
     "metadata": {},
     "output_type": "execute_result"
    }
   ],
   "source": [
    "df['wording_doc']"
   ]
  },
  {
   "cell_type": "code",
   "execution_count": 439,
   "metadata": {},
   "outputs": [],
   "source": [
    "# Define function to find index of tokens that match Wording content\n",
    "def get_matches(doc, wording):\n",
    "    \n",
    "    # Define Spacy Matcher\n",
    "    matcher = PhraseMatcher(nlp.vocab)\n",
    "    # Add patterns from nlp-preprocessed Wording column\n",
    "    matcher.add(\"WORDING\", [wording])\n",
    "    \n",
    "    # Get matches\n",
    "    matches = matcher(doc)\n",
    "\n",
    "    return matches\n",
    "\n"
   ]
  },
  {
   "cell_type": "code",
   "execution_count": 440,
   "metadata": {},
   "outputs": [],
   "source": [
    "df['matches_new'] = df.apply(lambda x: get_matches(x['doc'], x['wording_doc']), axis=1)"
   ]
  },
  {
   "cell_type": "markdown",
   "metadata": {},
   "source": [
    "## Fix non-matches"
   ]
  },
  {
   "cell_type": "code",
   "execution_count": 441,
   "metadata": {},
   "outputs": [
    {
     "data": {
      "text/plain": [
       "0                          [(1212883764967918647, 1, 4)]\n",
       "1                      [(1212883764967918647, 345, 348)]\n",
       "2      [(1212883764967918647, 791, 794), (12128837649...\n",
       "3      [(1212883764967918647, 29, 30), (1212883764967...\n",
       "4                        [(1212883764967918647, 60, 63)]\n",
       "                             ...                        \n",
       "944    [(1212883764967918647, 8, 9), (121288376496791...\n",
       "945                      [(1212883764967918647, 68, 71)]\n",
       "946                    [(1212883764967918647, 117, 119)]\n",
       "947                      [(1212883764967918647, 97, 98)]\n",
       "948                      [(1212883764967918647, 19, 21)]\n",
       "Name: matches_new, Length: 949, dtype: object"
      ]
     },
     "execution_count": 441,
     "metadata": {},
     "output_type": "execute_result"
    }
   ],
   "source": [
    "df['matches_new']"
   ]
  },
  {
   "cell_type": "code",
   "execution_count": 442,
   "metadata": {},
   "outputs": [],
   "source": [
    "non = df[~df['matches_new'].astype(bool)]\n",
    "non = non[['ID', 'doc', 'Wording', 'matches_new', 'wording_segments']]\n",
    "#non['wording_doc'] = list(nlp.pipe(non['Wording']))\n",
    "non['doc_tokens'] = non['doc'].apply(lambda x: [token.text for token in x])\n",
    "non['wording_tokens'] = non['wording_doc'].apply(lambda x: [token.text for token in x])"
   ]
  },
  {
   "cell_type": "code",
   "execution_count": 443,
   "metadata": {
    "scrolled": false
   },
   "outputs": [
    {
     "data": {
      "text/plain": [
       "47"
      ]
     },
     "execution_count": 443,
     "metadata": {},
     "output_type": "execute_result"
    }
   ],
   "source": [
    "len(non)"
   ]
  },
  {
   "cell_type": "code",
   "execution_count": 444,
   "metadata": {},
   "outputs": [
    {
     "data": {
      "text/plain": [
       "'volksparte'"
      ]
     },
     "execution_count": 444,
     "metadata": {},
     "output_type": "execute_result"
    }
   ],
   "source": [
    "non['Wording'].iloc[1]"
   ]
  },
  {
   "cell_type": "code",
   "execution_count": 446,
   "metadata": {
    "scrolled": false
   },
   "outputs": [
    {
     "data": {
      "text/plain": [
       "1.6. oesterreich und europa. europaeische union. die volkspartei sieht in der zukuenftigen mitgliedschaft oesterreichs zur europaeischen union die wesentlichste voraussetzung zum ausbau unserer, wirtschaftskraft und zur sicherung der beschaeftigung in oesterreich. der zielstrebigkeit der volkspartei ist es zu verdanken, dass oesterreich am 17. juli 1989 den antrag auf beitritt zu den europaeischen gemeinschaften gestellt hat. am 12. juni 1994 haben die oesterreicherinnen und oesterreicher mit ueberwaeltigender mehrheit entschieden, dass oesterreich mit beginn des kommenden jahres der europaeischen union als gleichberechtigter partner angehoeren wird. damit wurde fuer oesterreich die wichtigste entscheidung seit dem abschluss des staatsvertrag zum wohle unserer heimat getroffen. die antwort der europaeischen union auf die weltweiten herausforderungen, vor allem im technischen und wirtschaftlichen bereich, sind der binnenmarkt und die einheitliche europaeische akte sowie deren weiterentwicklung im abkommen von maastricht: freiheit als motor des fortschritts - auch des sozialen und des oekologischen. die wirtschaftspolitischen zielsetzungen des erhard busek-wirtschaftsplanes sind wachstum und wohlstand, vollbeschaeftigung, schutz der natuerlichen lebensgrundlagen und preisstabilitaet. oesterreich wird die neue europaeische herausforderung annehmen, um so die chancen des gemeinsamen europa fuer uns und die zukunft oesterreichs zu sichern. die oesterreichische volkaspartei wird dafuer eintreten die mitbestimmungsmoeglichkeiten oesterreichs in der europaeischen union bestmoeglich zum wohle unserer heimat zu nuetzen. wir werden sicherstellen, dass die oesterreichischen arbeitnehmer, die oesterreichische wirtschaft und landwirtschaft, die bundeslaender und regionen erfolgreich am europaeischen integrationsprozess mitwirken koennen. um das durchzusetzen tritt die volkspartei dafuer ein, aktiv alle moeglichkeiten zu nutzen, um in den zustaendigen organen und gremien der europaeischen union mitzuwirken und unsere vorschlaege fuer die gemeinsame gestaltung der europaeischen zukunft im sozialen, wirtschaftlichen und oekologischen mit groesstem nachdruck einzubringen. ostoeffnung. wir erkennen in der liberalisierung des marktzugangs und der schaffung fairer absatzchancen fuer waren aus den reformlaendern die beste wirtschaftliche unterstuetzungsmassnahme fuer osteuropa (aid by trade). die oesterreichische wirtschaft erhaelt durch die ostoeffnung die chance auf neue maerkte und wirtschaftliche partnerschaften. vor allem die oesterreichischen klein- und mittelbetriebe nutzen durch ihre raeumliche naehe zu den reformstaaten diese chancen besser als ihre europaeischen mitkonkurrenten und erzielen dadurch beachtliche wettbewerbsvorteile. von allen westeuropaeischen staaten hat oesterreich in besonderem masse von der ostoeffnung nutzen ziehen koennen. zuletzt erreichte der ueberschuss im warenverkehr mit osteuropa mehr als 13 mrd.. schilling. waehrend oesterreichs exporte 1993 zurueckgingen, sind die ausfuhren in die oestlichen nachbarstaaten um fast 15 % gestiegen. seit 1989 nehmen auch immer mehr oesterreichische unternehmen die chancen in osteuropa wahr und gruenden dort niederlassungen. juengste schaetzungen gehen von 15.000 joint-ventures in osteuropa aus. die internationalisierung der oesterreichischen wirtschaft schreitet weiter voran. 1988 investierten heimische firmen nur 4 mrd. schilling im ausland, zuletzt waren es bereits mehr als 20 mrd. schilling, die oesterreichische unternehmen im ausland investierten. unsere wirtschaftsoffensive tritt dafuer ein, die neuen demokratien in osteuropa weiterhin wirkungsvoll zu unterstuetzen. wirtschaftliches wachstum kann diese jungen demokratien dauerhaft absichern und sie zu wichtigen handelspartnern oesterreichs machen. oesterreich. teilt zwei drittel seiner grenzen mit reformlaendern. durch die grenzoeffnungen werden vor allem in ostoesterreich gewaltige investitionen im infrastrukturbereich notwendig sein. schiene und strasse muessen ausgebaut werden, um den gesteigerten anforderungen im verkehr rechnung zu tragen und die verkehrstechnische anbindung dieser laender an westeuropa sicherzustellen. in den naechsten jahren wird es zu einem abbau der zoelle und mengenmaessigen beschraenkungen im handel durch die zwischen den efta-laendern und der eu abgeschlossenen freihandelsabkommen mit den laendern zentral- und osteuropas kommen. um den prozess der ostoeffnung fuer die reformstaaten wie auch fuer die oesterreichische wirtschaft bestmoeglich zu gestalten, schlaegt die volkspartei folgende massnahmen vor: die weitere dotierung des ost-west-fonds zur verstaerkten unterstuetzung von direktinvestitionen in den reformstaaten. die beseitigung noch vorhandener hemmschuhe im steuerrecht beim aufbau von tochterbetrieben in den reformstaaten. den weiteren ausbau oesterreichs als dienstleistungszentrum fuer die ehemaligen staaten osteuropas, vor allem in den bereichen ausbildung, finanzierungen und finanzdienstleistungen sowie informations- und kommunikationsdienstleistungen. die exportfinanzierung und risikoabsicherung sind zu verbessern um bestehende wettbewerbsnachteile oesterreichischer unternehmen gegenueber ihren europaeischen mitkonkurrenten rasch abzubauen. allerdings darf auch nicht uebersehen werden, dass es in der uebergangsphase zu problemen durch niedriggehaltene einfuhrpreise dieser laender kommen wird. hier sind temporaer beschraenkte massnahmen im sinne der oesterreichischen wirtschaft zu setzen, wobei auf die vertraglichen verpflichtungen oesterreichs ruecksicht zu nehmen ist."
      ]
     },
     "execution_count": 446,
     "metadata": {},
     "output_type": "execute_result"
    }
   ],
   "source": [
    "non['doc'].iloc[1]"
   ]
  },
  {
   "cell_type": "code",
   "execution_count": 447,
   "metadata": {
    "scrolled": false
   },
   "outputs": [
    {
     "name": "stdout",
     "output_type": "stream",
     "text": [
      "['liberal-sozial', ':-)']\n"
     ]
    }
   ],
   "source": [
    "print(str(non.iloc[2]['doc_tokens']))"
   ]
  },
  {
   "cell_type": "code",
   "execution_count": 448,
   "metadata": {},
   "outputs": [
    {
     "name": "stdout",
     "output_type": "stream",
     "text": [
      "['barbara', 'schmid-federer']\n"
     ]
    }
   ],
   "source": [
    "print(str(non.iloc[2]['wording_tokens']))"
   ]
  },
  {
   "cell_type": "code",
   "execution_count": null,
   "metadata": {},
   "outputs": [],
   "source": [
    "--> try match first 5 tokens"
   ]
  }
 ],
 "metadata": {
  "kernelspec": {
   "display_name": "Python 3",
   "language": "python",
   "name": "python3"
  },
  "language_info": {
   "codemirror_mode": {
    "name": "ipython",
    "version": 3
   },
   "file_extension": ".py",
   "mimetype": "text/x-python",
   "name": "python",
   "nbconvert_exporter": "python",
   "pygments_lexer": "ipython3",
   "version": "3.8.5"
  }
 },
 "nbformat": 4,
 "nbformat_minor": 4
}
