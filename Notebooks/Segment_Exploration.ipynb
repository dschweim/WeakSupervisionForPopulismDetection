{
 "cells": [
  {
   "cell_type": "code",
   "execution_count": 416,
   "metadata": {},
   "outputs": [],
   "source": [
    "import spacy\n",
    "import pandas as pd\n",
    "from spacy.matcher import PhraseMatcher\n",
    "from spacy.tokens import Doc"
   ]
  },
  {
   "cell_type": "code",
   "execution_count": 376,
   "metadata": {},
   "outputs": [],
   "source": [
    "df = pd.read_csv(\"C:/Users/dschw/Documents/GitHub/Thesis/Output/NCCR_combined_corpus_DE_wording_available_TEST.csv\")"
   ]
  },
  {
   "cell_type": "code",
   "execution_count": 394,
   "metadata": {},
   "outputs": [
    {
     "data": {
      "text/plain": [
       "<spacy.pipeline.sentencizer.Sentencizer at 0x29940cfab00>"
      ]
     },
     "execution_count": 394,
     "metadata": {},
     "output_type": "execute_result"
    }
   ],
   "source": [
    "nlp = spacy.load(\"de_core_news_lg\", exclude=['tok2vec', 'tagger', 'morphologizer', 'parser',\n",
    "                         'attribute_ruler', 'lemmatizer'])\n",
    "\n",
    "nlp.add_pipe(\"sentencizer\")\n",
    "\n"
   ]
  },
  {
   "cell_type": "code",
   "execution_count": 395,
   "metadata": {},
   "outputs": [],
   "source": [
    "def standardize_text(text):\n",
    "    # Replace special characters #todo: simplify replacement\n",
    "    text = text.replace(\"ä\", \"ae\").replace(\"ü\", \"ue\").replace(\"ö\", \"oe\").replace(\"Ö\", \"Oe\").replace(\"Ä\", \"Ae\").replace(\"Ü\", \"Ue\").replace(\"ß\", \"ss\").replace(\"@\", \"\").replace(\"/\", \"\")\n",
    "    text = text.replace(\"ç\", \"c\"). replace(\"\", \"\")\n",
    "    \n",
    "    text = text.lower()\n",
    "    text = \" \".join(text.split())\n",
    "\n",
    "    return text"
   ]
  },
  {
   "cell_type": "code",
   "execution_count": 396,
   "metadata": {},
   "outputs": [],
   "source": [
    "def standardize_wording(wording):\n",
    "    # Replace special characters #todo: simplify replacement\n",
    "    wording = wording.replace(\"/\", \"\").replace(\"@\", \"\").replace(\"<ord:65430>\", \"\")\n",
    "    wording = \" \".join(wording.split())\n",
    "\n",
    "    return wording"
   ]
  },
  {
   "cell_type": "code",
   "execution_count": 397,
   "metadata": {},
   "outputs": [],
   "source": [
    "df['text_prep'] = df['text_prep'].apply(lambda x: standardize_text(x))"
   ]
  },
  {
   "cell_type": "code",
   "execution_count": 398,
   "metadata": {},
   "outputs": [],
   "source": [
    "df['Wording'] = df['Wording'].apply(lambda x: standardize_wording(x))"
   ]
  },
  {
   "cell_type": "code",
   "execution_count": 400,
   "metadata": {},
   "outputs": [
    {
     "data": {
      "text/plain": [
       "0      \"bucher fordert ehrenerklaerung von allen parl...\n",
       "1      na berlin (ots) - der rheinland-pfaelzische fi...\n",
       "2      wallner: gruene transparenz-offensive soll kla...\n",
       "3      zum geheimdienstskandal weltweit umfassender a...\n",
       "4      \"genug gezahlt - ueberstunden steuerfrei\", \"jo...\n",
       "                             ...                        \n",
       "944    na berlin (ots) - buendnis 90die gruenen haben...\n",
       "945    na berlin. vor der parlamentswahl in simbabwe ...\n",
       "946    na muenchen die 600 plaetze der festhalle des ...\n",
       "947    bilaterale ja eu-beitritt nein. dank den bilat...\n",
       "948    na bemaengelte oekonomisierung von ehe und fam...\n",
       "Name: text_prep, Length: 949, dtype: object"
      ]
     },
     "execution_count": 400,
     "metadata": {},
     "output_type": "execute_result"
    }
   ],
   "source": [
    "df['text_prep'] "
   ]
  },
  {
   "cell_type": "code",
   "execution_count": 401,
   "metadata": {
    "scrolled": true
   },
   "outputs": [
    {
     "data": {
      "text/plain": [
       "0      bucher fordert ehrenerklaerung von allen parla...\n",
       "1      sein parteikollege, der rheinland-pfaelzische ...\n",
       "2      das team stronach hat bis april 2013 laut rech...\n",
       "3                                                    wir\n",
       "4      waehrend andere parteien mit nackter haut vers...\n",
       "                             ...                        \n",
       "944                                              gruenen\n",
       "945    die fdp-bundestagsfraktion fordert alle staatl...\n",
       "946                                      die altparteien\n",
       "947                                                  svp\n",
       "948                                        norbert bluem\n",
       "Name: Wording, Length: 949, dtype: object"
      ]
     },
     "execution_count": 401,
     "metadata": {},
     "output_type": "execute_result"
    }
   ],
   "source": [
    "df['Wording'] "
   ]
  },
  {
   "cell_type": "code",
   "execution_count": 425,
   "metadata": {},
   "outputs": [],
   "source": [
    "df['doc'] = list(nlp.pipe(df['text_prep']))\n",
    "df['wording_doc'] = list(nlp.pipe(df['Wording']))\n",
    "\n",
    "\n"
   ]
  },
  {
   "cell_type": "code",
   "execution_count": 424,
   "metadata": {},
   "outputs": [
    {
     "data": {
      "text/plain": [
       "Das ist ein Test der "
      ]
     },
     "execution_count": 424,
     "metadata": {},
     "output_type": "execute_result"
    }
   ],
   "source": [
    "doc = nlp('Das ist ein Test der das Ganze prüft')\n",
    "get_sub_wording(doc)"
   ]
  },
  {
   "cell_type": "code",
   "execution_count": 436,
   "metadata": {},
   "outputs": [],
   "source": [
    "def get_sub_wording(wording):\n",
    "    doc2 = Doc(wording.vocab, words=[t.text for i, t in enumerate(wording) if i <3])\n",
    "    return doc2 \n",
    "    \n"
   ]
  },
  {
   "cell_type": "code",
   "execution_count": 437,
   "metadata": {},
   "outputs": [],
   "source": [
    "df['wording_doc'] = df['wording_doc'].apply(lambda x: get_sub_wording(x))"
   ]
  },
  {
   "cell_type": "code",
   "execution_count": 438,
   "metadata": {},
   "outputs": [
    {
     "data": {
      "text/plain": [
       "0          (bucher, fordert, ehrenerklaerung)\n",
       "1                    (sein, parteikollege, ,)\n",
       "2                       (das, team, stronach)\n",
       "3                                       (wir)\n",
       "4                (waehrend, andere, parteien)\n",
       "                        ...                  \n",
       "944                                 (gruenen)\n",
       "945    (die, fdp-bundestagsfraktion, fordert)\n",
       "946                        (die, altparteien)\n",
       "947                                     (svp)\n",
       "948                          (norbert, bluem)\n",
       "Name: wording_doc, Length: 949, dtype: object"
      ]
     },
     "execution_count": 438,
     "metadata": {},
     "output_type": "execute_result"
    }
   ],
   "source": [
    "df['wording_doc']"
   ]
  },
  {
   "cell_type": "code",
   "execution_count": 439,
   "metadata": {},
   "outputs": [],
   "source": [
    "# Define function to find index of tokens that match Wording content\n",
    "def get_matches(doc, wording):\n",
    "    \n",
    "    # Define Spacy Matcher\n",
    "    matcher = PhraseMatcher(nlp.vocab)\n",
    "    # Add patterns from nlp-preprocessed Wording column\n",
    "    matcher.add(\"WORDING\", [wording])\n",
    "    \n",
    "    # Get matches\n",
    "    matches = matcher(doc)\n",
    "\n",
    "    return matches\n",
    "\n"
   ]
  },
  {
   "cell_type": "code",
   "execution_count": 440,
   "metadata": {},
   "outputs": [],
   "source": [
    "df['matches_new'] = df.apply(lambda x: get_matches(x['doc'], x['wording_doc']), axis=1)"
   ]
  },
  {
   "cell_type": "markdown",
   "metadata": {},
   "source": [
    "## Fix non-matches"
   ]
  },
  {
   "cell_type": "code",
   "execution_count": 441,
   "metadata": {},
   "outputs": [
    {
     "data": {
      "text/plain": [
       "0                          [(1212883764967918647, 1, 4)]\n",
       "1                      [(1212883764967918647, 345, 348)]\n",
       "2      [(1212883764967918647, 791, 794), (12128837649...\n",
       "3      [(1212883764967918647, 29, 30), (1212883764967...\n",
       "4                        [(1212883764967918647, 60, 63)]\n",
       "                             ...                        \n",
       "944    [(1212883764967918647, 8, 9), (121288376496791...\n",
       "945                      [(1212883764967918647, 68, 71)]\n",
       "946                    [(1212883764967918647, 117, 119)]\n",
       "947                      [(1212883764967918647, 97, 98)]\n",
       "948                      [(1212883764967918647, 19, 21)]\n",
       "Name: matches_new, Length: 949, dtype: object"
      ]
     },
     "execution_count": 441,
     "metadata": {},
     "output_type": "execute_result"
    }
   ],
   "source": [
    "df['matches_new']"
   ]
  },
  {
   "cell_type": "code",
   "execution_count": 442,
   "metadata": {},
   "outputs": [],
   "source": [
    "non = df[~df['matches_new'].astype(bool)]\n",
    "non = non[['ID', 'doc', 'Wording', 'matches_new', 'wording_segments']]\n",
    "#non['wording_doc'] = list(nlp.pipe(non['Wording']))\n",
    "non['doc_tokens'] = non['doc'].apply(lambda x: [token.text for token in x])\n",
    "non['wording_tokens'] = non['wording_doc'].apply(lambda x: [token.text for token in x])"
   ]
  },
  {
   "cell_type": "code",
   "execution_count": 443,
   "metadata": {
    "scrolled": false
   },
   "outputs": [
    {
     "data": {
      "text/plain": [
       "47"
      ]
     },
     "execution_count": 443,
     "metadata": {},
     "output_type": "execute_result"
    }
   ],
   "source": [
    "len(non)"
   ]
  },
  {
   "cell_type": "code",
   "execution_count": 444,
   "metadata": {},
   "outputs": [
    {
     "data": {
      "text/plain": [
       "'volksparte'"
      ]
     },
     "execution_count": 444,
     "metadata": {},
     "output_type": "execute_result"
    }
   ],
   "source": [
    "non['Wording'].iloc[1]"
   ]
  },
  {
   "cell_type": "code",
   "execution_count": 446,
   "metadata": {
    "scrolled": false
   },
   "outputs": [
    {
     "data": {
      "text/plain": [
       "1.6. oesterreich und europa. europaeische union. die volkspartei sieht in der zukuenftigen mitgliedschaft oesterreichs zur europaeischen union die wesentlichste voraussetzung zum ausbau unserer, wirtschaftskraft und zur sicherung der beschaeftigung in oesterreich. der zielstrebigkeit der volkspartei ist es zu verdanken, dass oesterreich am 17. juli 1989 den antrag auf beitritt zu den europaeischen gemeinschaften gestellt hat. am 12. juni 1994 haben die oesterreicherinnen und oesterreicher mit ueberwaeltigender mehrheit entschieden, dass oesterreich mit beginn des kommenden jahres der europaeischen union als gleichberechtigter partner angehoeren wird. damit wurde fuer oesterreich die wichtigste entscheidung seit dem abschluss des staatsvertrag zum wohle unserer heimat getroffen. die antwort der europaeischen union auf die weltweiten herausforderungen, vor allem im technischen und wirtschaftlichen bereich, sind der binnenmarkt und die einheitliche europaeische akte sowie deren weiterentwicklung im abkommen von maastricht: freiheit als motor des fortschritts - auch des sozialen und des oekologischen. die wirtschaftspolitischen zielsetzungen des erhard busek-wirtschaftsplanes sind wachstum und wohlstand, vollbeschaeftigung, schutz der natuerlichen lebensgrundlagen und preisstabilitaet. oesterreich wird die neue europaeische herausforderung annehmen, um so die chancen des gemeinsamen europa fuer uns und die zukunft oesterreichs zu sichern. die oesterreichische volkaspartei wird dafuer eintreten die mitbestimmungsmoeglichkeiten oesterreichs in der europaeischen union bestmoeglich zum wohle unserer heimat zu nuetzen. wir werden sicherstellen, dass die oesterreichischen arbeitnehmer, die oesterreichische wirtschaft und landwirtschaft, die bundeslaender und regionen erfolgreich am europaeischen integrationsprozess mitwirken koennen. um das durchzusetzen tritt die volkspartei dafuer ein, aktiv alle moeglichkeiten zu nutzen, um in den zustaendigen organen und gremien der europaeischen union mitzuwirken und unsere vorschlaege fuer die gemeinsame gestaltung der europaeischen zukunft im sozialen, wirtschaftlichen und oekologischen mit groesstem nachdruck einzubringen. ostoeffnung. wir erkennen in der liberalisierung des marktzugangs und der schaffung fairer absatzchancen fuer waren aus den reformlaendern die beste wirtschaftliche unterstuetzungsmassnahme fuer osteuropa (aid by trade). die oesterreichische wirtschaft erhaelt durch die ostoeffnung die chance auf neue maerkte und wirtschaftliche partnerschaften. vor allem die oesterreichischen klein- und mittelbetriebe nutzen durch ihre raeumliche naehe zu den reformstaaten diese chancen besser als ihre europaeischen mitkonkurrenten und erzielen dadurch beachtliche wettbewerbsvorteile. von allen westeuropaeischen staaten hat oesterreich in besonderem masse von der ostoeffnung nutzen ziehen koennen. zuletzt erreichte der ueberschuss im warenverkehr mit osteuropa mehr als 13 mrd.. schilling. waehrend oesterreichs exporte 1993 zurueckgingen, sind die ausfuhren in die oestlichen nachbarstaaten um fast 15 % gestiegen. seit 1989 nehmen auch immer mehr oesterreichische unternehmen die chancen in osteuropa wahr und gruenden dort niederlassungen. juengste schaetzungen gehen von 15.000 joint-ventures in osteuropa aus. die internationalisierung der oesterreichischen wirtschaft schreitet weiter voran. 1988 investierten heimische firmen nur 4 mrd. schilling im ausland, zuletzt waren es bereits mehr als 20 mrd. schilling, die oesterreichische unternehmen im ausland investierten. unsere wirtschaftsoffensive tritt dafuer ein, die neuen demokratien in osteuropa weiterhin wirkungsvoll zu unterstuetzen. wirtschaftliches wachstum kann diese jungen demokratien dauerhaft absichern und sie zu wichtigen handelspartnern oesterreichs machen. oesterreich. teilt zwei drittel seiner grenzen mit reformlaendern. durch die grenzoeffnungen werden vor allem in ostoesterreich gewaltige investitionen im infrastrukturbereich notwendig sein. schiene und strasse muessen ausgebaut werden, um den gesteigerten anforderungen im verkehr rechnung zu tragen und die verkehrstechnische anbindung dieser laender an westeuropa sicherzustellen. in den naechsten jahren wird es zu einem abbau der zoelle und mengenmaessigen beschraenkungen im handel durch die zwischen den efta-laendern und der eu abgeschlossenen freihandelsabkommen mit den laendern zentral- und osteuropas kommen. um den prozess der ostoeffnung fuer die reformstaaten wie auch fuer die oesterreichische wirtschaft bestmoeglich zu gestalten, schlaegt die volkspartei folgende massnahmen vor: die weitere dotierung des ost-west-fonds zur verstaerkten unterstuetzung von direktinvestitionen in den reformstaaten. die beseitigung noch vorhandener hemmschuhe im steuerrecht beim aufbau von tochterbetrieben in den reformstaaten. den weiteren ausbau oesterreichs als dienstleistungszentrum fuer die ehemaligen staaten osteuropas, vor allem in den bereichen ausbildung, finanzierungen und finanzdienstleistungen sowie informations- und kommunikationsdienstleistungen. die exportfinanzierung und risikoabsicherung sind zu verbessern um bestehende wettbewerbsnachteile oesterreichischer unternehmen gegenueber ihren europaeischen mitkonkurrenten rasch abzubauen. allerdings darf auch nicht uebersehen werden, dass es in der uebergangsphase zu problemen durch niedriggehaltene einfuhrpreise dieser laender kommen wird. hier sind temporaer beschraenkte massnahmen im sinne der oesterreichischen wirtschaft zu setzen, wobei auf die vertraglichen verpflichtungen oesterreichs ruecksicht zu nehmen ist."
      ]
     },
     "execution_count": 446,
     "metadata": {},
     "output_type": "execute_result"
    }
   ],
   "source": [
    "non['doc'].iloc[1]"
   ]
  },
  {
   "cell_type": "code",
   "execution_count": 447,
   "metadata": {
    "scrolled": false
   },
   "outputs": [
    {
     "name": "stdout",
     "output_type": "stream",
     "text": [
      "['liberal-sozial', ':-)']\n"
     ]
    }
   ],
   "source": [
    "print(str(non.iloc[2]['doc_tokens']))"
   ]
  },
  {
   "cell_type": "code",
   "execution_count": 448,
   "metadata": {},
   "outputs": [
    {
     "name": "stdout",
     "output_type": "stream",
     "text": [
      "['barbara', 'schmid-federer']\n"
     ]
    }
   ],
   "source": [
    "print(str(non.iloc[2]['wording_tokens']))"
   ]
  },
  {
   "cell_type": "code",
   "execution_count": null,
   "metadata": {},
   "outputs": [],
   "source": [
    "--> try match first 5 tokens"
   ]
  },
  {
   "cell_type": "code",
   "execution_count": null,
   "metadata": {},
   "outputs": [],
   "source": []
  },
  {
   "cell_type": "markdown",
   "metadata": {},
   "source": [
    "## Investigate Missing Segments"
   ]
  },
  {
   "cell_type": "code",
   "execution_count": 4,
   "metadata": {},
   "outputs": [],
   "source": [
    "# sample type?\n",
    "import pandas as pd\n",
    "non_train = pd.read_csv(\"C:/Users/dschw/Documents/GitHub/Thesis/Output/non_matched_TRAIN.csv\")\n",
    "#non_test = pd.read_csv(\"C:/Users/dschw/Documents/GitHub/Thesis/Output/non_matched_TEST.csv\")"
   ]
  },
  {
   "cell_type": "code",
   "execution_count": 5,
   "metadata": {},
   "outputs": [
    {
     "data": {
      "text/html": [
       "<div>\n",
       "<style scoped>\n",
       "    .dataframe tbody tr th:only-of-type {\n",
       "        vertical-align: middle;\n",
       "    }\n",
       "\n",
       "    .dataframe tbody tr th {\n",
       "        vertical-align: top;\n",
       "    }\n",
       "\n",
       "    .dataframe thead th {\n",
       "        text-align: right;\n",
       "    }\n",
       "</style>\n",
       "<table border=\"1\" class=\"dataframe\">\n",
       "  <thead>\n",
       "    <tr style=\"text-align: right;\">\n",
       "      <th></th>\n",
       "      <th>Unnamed: 0</th>\n",
       "      <th>level_0</th>\n",
       "      <th>index</th>\n",
       "      <th>ID</th>\n",
       "      <th>text</th>\n",
       "      <th>Coder</th>\n",
       "      <th>#TS</th>\n",
       "      <th>#TS2</th>\n",
       "      <th>Codierstart_Lab</th>\n",
       "      <th>Medium</th>\n",
       "      <th>...</th>\n",
       "      <th>year</th>\n",
       "      <th>text_temp</th>\n",
       "      <th>Wording_temp</th>\n",
       "      <th>doc_temp</th>\n",
       "      <th>Wording_doc_temp</th>\n",
       "      <th>wording_matches</th>\n",
       "      <th>wording_sentence</th>\n",
       "      <th>wording_segments</th>\n",
       "      <th>doc_tokens</th>\n",
       "      <th>wording_tokens</th>\n",
       "    </tr>\n",
       "  </thead>\n",
       "  <tbody>\n",
       "    <tr>\n",
       "      <th>0</th>\n",
       "      <td>462</td>\n",
       "      <td>462</td>\n",
       "      <td>418</td>\n",
       "      <td>au_pm_el_94_50027.txt</td>\n",
       "      <td>Text ID:\\nau_pm_el_94_50027.txt\\n\\nParty Manif...</td>\n",
       "      <td>pagr</td>\n",
       "      <td>1.405505e+09</td>\n",
       "      <td>1.405506e+09</td>\n",
       "      <td>Wed Jul 16 12:01:49 2014</td>\n",
       "      <td>1160</td>\n",
       "      <td>...</td>\n",
       "      <td>1994</td>\n",
       "      <td>DER STAAT DER BUeRGERINNEN UND BUeRGER Wir wer...</td>\n",
       "      <td>Wir werden dafür sorgen, dass der Staat möglic...</td>\n",
       "      <td>DER STAAT DER BUeRGERINNEN UND BUeRGER Wir wer...</td>\n",
       "      <td>Wir werden dafür sorgen ,</td>\n",
       "      <td>[]</td>\n",
       "      <td>[]</td>\n",
       "      <td>NaN</td>\n",
       "      <td>['DER', 'STAAT', 'DER', 'BUeRGERINNEN', 'UND',...</td>\n",
       "      <td>['Wir', 'werden', 'dafür', 'sorgen', ',']</td>\n",
       "    </tr>\n",
       "    <tr>\n",
       "      <th>1</th>\n",
       "      <td>78</td>\n",
       "      <td>78</td>\n",
       "      <td>93</td>\n",
       "      <td>au_pm_el_02_40040.txt</td>\n",
       "      <td>Text ID:\\nau_pm_el_02_40040.txt\\n\\nParty Manif...</td>\n",
       "      <td>lire</td>\n",
       "      <td>1.405091e+09</td>\n",
       "      <td>1.405092e+09</td>\n",
       "      <td>Fri Jul 11 16:57:35 2014</td>\n",
       "      <td>1160</td>\n",
       "      <td>...</td>\n",
       "      <td>2002</td>\n",
       "      <td>Gesundheit Gesund werden ? gesund bleiben Die ...</td>\n",
       "      <td>Für uns Christdemokraten steht der Mensch im M...</td>\n",
       "      <td>Gesundheit Gesund werden ? gesund bleiben Die ...</td>\n",
       "      <td>Für uns Christdemokraten steht der</td>\n",
       "      <td>[]</td>\n",
       "      <td>[]</td>\n",
       "      <td>NaN</td>\n",
       "      <td>['Gesundheit', 'Gesund', 'werden', '?', 'gesun...</td>\n",
       "      <td>['Für', 'uns', 'Christdemokraten', 'steht', 'd...</td>\n",
       "    </tr>\n",
       "    <tr>\n",
       "      <th>2</th>\n",
       "      <td>44</td>\n",
       "      <td>44</td>\n",
       "      <td>36</td>\n",
       "      <td>au_pm_el_02_10038.txt</td>\n",
       "      <td>Text ID:\\nau_pm_el_02_10038.txt\\n\\nParty Manif...</td>\n",
       "      <td>elan</td>\n",
       "      <td>1.404674e+09</td>\n",
       "      <td>1.404677e+09</td>\n",
       "      <td>Sun Jul 06 21:07:08 2014</td>\n",
       "      <td>1160</td>\n",
       "      <td>...</td>\n",
       "      <td>2002</td>\n",
       "      <td>TRANSIT. DAS ERBE. Der zu Zeiten der grossen K...</td>\n",
       "      <td>Darüber hinaus wurde vom Verkehrsministerium e...</td>\n",
       "      <td>TRANSIT. DAS ERBE. Der zu Zeiten der grossen K...</td>\n",
       "      <td>Darüber hinaus wurde vom Verkehrsministerium</td>\n",
       "      <td>[]</td>\n",
       "      <td>[]</td>\n",
       "      <td>NaN</td>\n",
       "      <td>['TRANSIT', '.', 'DAS', 'ERBE', '.', 'Der', 'z...</td>\n",
       "      <td>['Darüber', 'hinaus', 'wurde', 'vom', 'Verkehr...</td>\n",
       "    </tr>\n",
       "    <tr>\n",
       "      <th>3</th>\n",
       "      <td>3397</td>\n",
       "      <td>3397</td>\n",
       "      <td>2127</td>\n",
       "      <td>cd_tw_db_13043_00176.txt</td>\n",
       "      <td>Text ID:\\ncd_tw_db_13043_00176.txt\\n\\n\\nTweet ...</td>\n",
       "      <td>difr</td>\n",
       "      <td>1.411630e+09</td>\n",
       "      <td>1.411630e+09</td>\n",
       "      <td>Thu Sep 25 09:31:04 2014</td>\n",
       "      <td>9901</td>\n",
       "      <td>...</td>\n",
       "      <td>2014</td>\n",
       "      <td>Hallo? @GuyVerhofstadt fordert mehr private Mo...</td>\n",
       "      <td>GuyVerhofstadt</td>\n",
       "      <td>Hallo? @GuyVerhofstadt fordert mehr private Mo...</td>\n",
       "      <td>GuyVerhofstadt</td>\n",
       "      <td>[]</td>\n",
       "      <td>[]</td>\n",
       "      <td>NaN</td>\n",
       "      <td>['Hallo', '?', '@GuyVerhofstadt', 'fordert', '...</td>\n",
       "      <td>['GuyVerhofstadt']</td>\n",
       "    </tr>\n",
       "    <tr>\n",
       "      <th>4</th>\n",
       "      <td>3004</td>\n",
       "      <td>3004</td>\n",
       "      <td>1646</td>\n",
       "      <td>cd_pm_el_83_70017.txt</td>\n",
       "      <td>Text ID:\\ncd_pm_el_83_70017.txt\\n\\nParty Manif...</td>\n",
       "      <td>kryo</td>\n",
       "      <td>1.405259e+09</td>\n",
       "      <td>1.405260e+09</td>\n",
       "      <td>Sun Jul 13 15:48:29 2014</td>\n",
       "      <td>1360</td>\n",
       "      <td>...</td>\n",
       "      <td>1983</td>\n",
       "      <td>Finanzplatz 1. Die Schweiz ist ein rohstoffarm...</td>\n",
       "      <td>Die SVP ist über die in- und ausländischen Bes...</td>\n",
       "      <td>Finanzplatz 1. Die Schweiz ist ein rohstoffarm...</td>\n",
       "      <td>Die SVP ist über die</td>\n",
       "      <td>[]</td>\n",
       "      <td>[]</td>\n",
       "      <td>NaN</td>\n",
       "      <td>['Finanzplatz', '1.', 'Die', 'Schweiz', 'ist',...</td>\n",
       "      <td>['Die', 'SVP', 'ist', 'über', 'die']</td>\n",
       "    </tr>\n",
       "    <tr>\n",
       "      <th>...</th>\n",
       "      <td>...</td>\n",
       "      <td>...</td>\n",
       "      <td>...</td>\n",
       "      <td>...</td>\n",
       "      <td>...</td>\n",
       "      <td>...</td>\n",
       "      <td>...</td>\n",
       "      <td>...</td>\n",
       "      <td>...</td>\n",
       "      <td>...</td>\n",
       "      <td>...</td>\n",
       "      <td>...</td>\n",
       "      <td>...</td>\n",
       "      <td>...</td>\n",
       "      <td>...</td>\n",
       "      <td>...</td>\n",
       "      <td>...</td>\n",
       "      <td>...</td>\n",
       "      <td>...</td>\n",
       "      <td>...</td>\n",
       "      <td>...</td>\n",
       "    </tr>\n",
       "    <tr>\n",
       "      <th>557</th>\n",
       "      <td>3482</td>\n",
       "      <td>3482</td>\n",
       "      <td>2376</td>\n",
       "      <td>de_fb_db_15007_00023z.txt</td>\n",
       "      <td>Text ID:\\nde_fb_db_15007_00023.txt\\n\\n\\nFacebo...</td>\n",
       "      <td>mabu</td>\n",
       "      <td>1.464203e+09</td>\n",
       "      <td>1.464205e+09</td>\n",
       "      <td>Wed May 25 21:01:00 2016</td>\n",
       "      <td>9902</td>\n",
       "      <td>...</td>\n",
       "      <td>2015</td>\n",
       "      <td>#Asyl Das Grundgesetz ist die gemeinsame Grund...</td>\n",
       "      <td>Wir brauchen mehr &lt;ORD:65412&gt;Anpackgesellschaf...</td>\n",
       "      <td>#Asyl Das Grundgesetz ist die gemeinsame Grund...</td>\n",
       "      <td>Wir brauchen mehr &lt; ORD:65412&gt;Anpackgesellschaft</td>\n",
       "      <td>[]</td>\n",
       "      <td>[]</td>\n",
       "      <td>NaN</td>\n",
       "      <td>['#', 'Asyl', 'Das', 'Grundgesetz', 'ist', 'di...</td>\n",
       "      <td>['Wir', 'brauchen', 'mehr', '&lt;', 'ORD:65412&gt;An...</td>\n",
       "    </tr>\n",
       "    <tr>\n",
       "      <th>558</th>\n",
       "      <td>4095</td>\n",
       "      <td>4093</td>\n",
       "      <td>3060</td>\n",
       "      <td>de_pm_el_94_30001.txt</td>\n",
       "      <td>Text ID:\\nde_pm_el_94_30001.txt\\n\\nParty Manif...</td>\n",
       "      <td>pagr</td>\n",
       "      <td>1.408525e+09</td>\n",
       "      <td>1.408526e+09</td>\n",
       "      <td>Wed Aug 20 10:52:58 2014</td>\n",
       "      <td>1560</td>\n",
       "      <td>...</td>\n",
       "      <td>1994</td>\n",
       "      <td>BUeNDNIS 90DIE GRUeNEN 41113.1994 Programm zur...</td>\n",
       "      <td>BÜNDNIS 90DIE GRÜNEN treten zu den Wahlen zum ...</td>\n",
       "      <td>BUeNDNIS 90DIE GRUeNEN 41113.1994 Programm zur...</td>\n",
       "      <td>BÜNDNIS 90DIE GRÜNEN treten zu</td>\n",
       "      <td>[]</td>\n",
       "      <td>[]</td>\n",
       "      <td>NaN</td>\n",
       "      <td>['BUeNDNIS', '90DIE', 'GRUeNEN', '41113.1994',...</td>\n",
       "      <td>['BÜNDNIS', '90DIE', 'GRÜNEN', 'treten', 'zu']</td>\n",
       "    </tr>\n",
       "    <tr>\n",
       "      <th>559</th>\n",
       "      <td>2583</td>\n",
       "      <td>2583</td>\n",
       "      <td>1144</td>\n",
       "      <td>au_pr_el_13_111082.txt</td>\n",
       "      <td>Text-ID: at_pr_el_13_111082.txt\\n\\nPress Relea...</td>\n",
       "      <td>pagr</td>\n",
       "      <td>1.424854e+09</td>\n",
       "      <td>1.424855e+09</td>\n",
       "      <td>Wed Feb 25 09:46:41 2015</td>\n",
       "      <td>1150</td>\n",
       "      <td>...</td>\n",
       "      <td>2013</td>\n",
       "      <td>Hinweisen auf Vorfälle im Apotheken-Bereich mu...</td>\n",
       "      <td>Datenmissbrauch-Skandal: Lugar fordert soforti...</td>\n",
       "      <td>Hinweisen auf Vorfälle im Apotheken-Bereich mu...</td>\n",
       "      <td>Datenmissbrauch-Skandal : Lugar fordert sofort...</td>\n",
       "      <td>[]</td>\n",
       "      <td>[]</td>\n",
       "      <td>NaN</td>\n",
       "      <td>['Hinweisen', 'auf', 'Vorfälle', 'im', 'Apothe...</td>\n",
       "      <td>['Datenmissbrauch-Skandal', ':', 'Lugar', 'for...</td>\n",
       "    </tr>\n",
       "    <tr>\n",
       "      <th>560</th>\n",
       "      <td>3421</td>\n",
       "      <td>3421</td>\n",
       "      <td>2175</td>\n",
       "      <td>cd_tw_db_13063_00032.txt</td>\n",
       "      <td>Text ID:\\ncd_tw_db_13063_00032.txt\\n\\n\\nTweet ...</td>\n",
       "      <td>kasa</td>\n",
       "      <td>1.410598e+09</td>\n",
       "      <td>1.410599e+09</td>\n",
       "      <td>Sat Sep 13 10:43:40 2014</td>\n",
       "      <td>9901</td>\n",
       "      <td>...</td>\n",
       "      <td>2014</td>\n",
       "      <td>my highlight at #hsgforum so far: intro by @wu...</td>\n",
       "      <td>wüstenhagen</td>\n",
       "      <td>my highlight at #hsgforum so far: intro by @wu...</td>\n",
       "      <td>wüstenhagen</td>\n",
       "      <td>[]</td>\n",
       "      <td>[]</td>\n",
       "      <td>NaN</td>\n",
       "      <td>['my', 'highlight', 'at', '#', 'hsgforum', 'so...</td>\n",
       "      <td>['wüstenhagen']</td>\n",
       "    </tr>\n",
       "    <tr>\n",
       "      <th>561</th>\n",
       "      <td>983</td>\n",
       "      <td>983</td>\n",
       "      <td>599</td>\n",
       "      <td>au_pr_el_13_020021.txt</td>\n",
       "      <td>Text-ID: at_pr_el_13_020021.txt\\n\\nPress Relea...</td>\n",
       "      <td>pagr</td>\n",
       "      <td>1.424853e+09</td>\n",
       "      <td>1.424854e+09</td>\n",
       "      <td>Wed Feb 25 09:38:09 2015</td>\n",
       "      <td>1150</td>\n",
       "      <td>...</td>\n",
       "      <td>2013</td>\n",
       "      <td>Zeit für einen Kanzlerwechsel Wien, 27. Septem...</td>\n",
       "      <td>Michael Spindelegger ist die beste Wahl für Ob...</td>\n",
       "      <td>Zeit für einen Kanzlerwechsel Wien, 27. Septem...</td>\n",
       "      <td>Michael Spindelegger ist die beste</td>\n",
       "      <td>[]</td>\n",
       "      <td>[]</td>\n",
       "      <td>NaN</td>\n",
       "      <td>['Zeit', 'für', 'einen', 'Kanzlerwechsel', 'Wi...</td>\n",
       "      <td>['Michael', 'Spindelegger', 'ist', 'die', 'bes...</td>\n",
       "    </tr>\n",
       "  </tbody>\n",
       "</table>\n",
       "<p>562 rows × 185 columns</p>\n",
       "</div>"
      ],
      "text/plain": [
       "     Unnamed: 0  level_0  index                         ID  \\\n",
       "0           462      462    418      au_pm_el_94_50027.txt   \n",
       "1            78       78     93      au_pm_el_02_40040.txt   \n",
       "2            44       44     36      au_pm_el_02_10038.txt   \n",
       "3          3397     3397   2127   cd_tw_db_13043_00176.txt   \n",
       "4          3004     3004   1646      cd_pm_el_83_70017.txt   \n",
       "..          ...      ...    ...                        ...   \n",
       "557        3482     3482   2376  de_fb_db_15007_00023z.txt   \n",
       "558        4095     4093   3060      de_pm_el_94_30001.txt   \n",
       "559        2583     2583   1144     au_pr_el_13_111082.txt   \n",
       "560        3421     3421   2175   cd_tw_db_13063_00032.txt   \n",
       "561         983      983    599     au_pr_el_13_020021.txt   \n",
       "\n",
       "                                                  text Coder           #TS  \\\n",
       "0    Text ID:\\nau_pm_el_94_50027.txt\\n\\nParty Manif...  pagr  1.405505e+09   \n",
       "1    Text ID:\\nau_pm_el_02_40040.txt\\n\\nParty Manif...  lire  1.405091e+09   \n",
       "2    Text ID:\\nau_pm_el_02_10038.txt\\n\\nParty Manif...  elan  1.404674e+09   \n",
       "3    Text ID:\\ncd_tw_db_13043_00176.txt\\n\\n\\nTweet ...  difr  1.411630e+09   \n",
       "4    Text ID:\\ncd_pm_el_83_70017.txt\\n\\nParty Manif...  kryo  1.405259e+09   \n",
       "..                                                 ...   ...           ...   \n",
       "557  Text ID:\\nde_fb_db_15007_00023.txt\\n\\n\\nFacebo...  mabu  1.464203e+09   \n",
       "558  Text ID:\\nde_pm_el_94_30001.txt\\n\\nParty Manif...  pagr  1.408525e+09   \n",
       "559  Text-ID: at_pr_el_13_111082.txt\\n\\nPress Relea...  pagr  1.424854e+09   \n",
       "560  Text ID:\\ncd_tw_db_13063_00032.txt\\n\\n\\nTweet ...  kasa  1.410598e+09   \n",
       "561  Text-ID: at_pr_el_13_020021.txt\\n\\nPress Relea...  pagr  1.424853e+09   \n",
       "\n",
       "             #TS2           Codierstart_Lab  Medium  ...  year  \\\n",
       "0    1.405506e+09  Wed Jul 16 12:01:49 2014    1160  ...  1994   \n",
       "1    1.405092e+09  Fri Jul 11 16:57:35 2014    1160  ...  2002   \n",
       "2    1.404677e+09  Sun Jul 06 21:07:08 2014    1160  ...  2002   \n",
       "3    1.411630e+09  Thu Sep 25 09:31:04 2014    9901  ...  2014   \n",
       "4    1.405260e+09  Sun Jul 13 15:48:29 2014    1360  ...  1983   \n",
       "..            ...                       ...     ...  ...   ...   \n",
       "557  1.464205e+09  Wed May 25 21:01:00 2016    9902  ...  2015   \n",
       "558  1.408526e+09  Wed Aug 20 10:52:58 2014    1560  ...  1994   \n",
       "559  1.424855e+09  Wed Feb 25 09:46:41 2015    1150  ...  2013   \n",
       "560  1.410599e+09  Sat Sep 13 10:43:40 2014    9901  ...  2014   \n",
       "561  1.424854e+09  Wed Feb 25 09:38:09 2015    1150  ...  2013   \n",
       "\n",
       "                                             text_temp  \\\n",
       "0    DER STAAT DER BUeRGERINNEN UND BUeRGER Wir wer...   \n",
       "1    Gesundheit Gesund werden ? gesund bleiben Die ...   \n",
       "2    TRANSIT. DAS ERBE. Der zu Zeiten der grossen K...   \n",
       "3    Hallo? @GuyVerhofstadt fordert mehr private Mo...   \n",
       "4    Finanzplatz 1. Die Schweiz ist ein rohstoffarm...   \n",
       "..                                                 ...   \n",
       "557  #Asyl Das Grundgesetz ist die gemeinsame Grund...   \n",
       "558  BUeNDNIS 90DIE GRUeNEN 41113.1994 Programm zur...   \n",
       "559  Hinweisen auf Vorfälle im Apotheken-Bereich mu...   \n",
       "560  my highlight at #hsgforum so far: intro by @wu...   \n",
       "561  Zeit für einen Kanzlerwechsel Wien, 27. Septem...   \n",
       "\n",
       "                                          Wording_temp  \\\n",
       "0    Wir werden dafür sorgen, dass der Staat möglic...   \n",
       "1    Für uns Christdemokraten steht der Mensch im M...   \n",
       "2    Darüber hinaus wurde vom Verkehrsministerium e...   \n",
       "3                                       GuyVerhofstadt   \n",
       "4    Die SVP ist über die in- und ausländischen Bes...   \n",
       "..                                                 ...   \n",
       "557  Wir brauchen mehr <ORD:65412>Anpackgesellschaf...   \n",
       "558  BÜNDNIS 90DIE GRÜNEN treten zu den Wahlen zum ...   \n",
       "559  Datenmissbrauch-Skandal: Lugar fordert soforti...   \n",
       "560                                        wüstenhagen   \n",
       "561  Michael Spindelegger ist die beste Wahl für Ob...   \n",
       "\n",
       "                                              doc_temp  \\\n",
       "0    DER STAAT DER BUeRGERINNEN UND BUeRGER Wir wer...   \n",
       "1    Gesundheit Gesund werden ? gesund bleiben Die ...   \n",
       "2    TRANSIT. DAS ERBE. Der zu Zeiten der grossen K...   \n",
       "3    Hallo? @GuyVerhofstadt fordert mehr private Mo...   \n",
       "4    Finanzplatz 1. Die Schweiz ist ein rohstoffarm...   \n",
       "..                                                 ...   \n",
       "557  #Asyl Das Grundgesetz ist die gemeinsame Grund...   \n",
       "558  BUeNDNIS 90DIE GRUeNEN 41113.1994 Programm zur...   \n",
       "559  Hinweisen auf Vorfälle im Apotheken-Bereich mu...   \n",
       "560  my highlight at #hsgforum so far: intro by @wu...   \n",
       "561  Zeit für einen Kanzlerwechsel Wien, 27. Septem...   \n",
       "\n",
       "                                      Wording_doc_temp  wording_matches  \\\n",
       "0                           Wir werden dafür sorgen ,                []   \n",
       "1                  Für uns Christdemokraten steht der                []   \n",
       "2        Darüber hinaus wurde vom Verkehrsministerium                []   \n",
       "3                                      GuyVerhofstadt                []   \n",
       "4                                Die SVP ist über die                []   \n",
       "..                                                 ...              ...   \n",
       "557  Wir brauchen mehr < ORD:65412>Anpackgesellschaft                []   \n",
       "558                    BÜNDNIS 90DIE GRÜNEN treten zu                []   \n",
       "559  Datenmissbrauch-Skandal : Lugar fordert sofort...               []   \n",
       "560                                       wüstenhagen                []   \n",
       "561                Michael Spindelegger ist die beste                []   \n",
       "\n",
       "     wording_sentence  wording_segments  \\\n",
       "0                  []               NaN   \n",
       "1                  []               NaN   \n",
       "2                  []               NaN   \n",
       "3                  []               NaN   \n",
       "4                  []               NaN   \n",
       "..                ...               ...   \n",
       "557                []               NaN   \n",
       "558                []               NaN   \n",
       "559                []               NaN   \n",
       "560                []               NaN   \n",
       "561                []               NaN   \n",
       "\n",
       "                                            doc_tokens  \\\n",
       "0    ['DER', 'STAAT', 'DER', 'BUeRGERINNEN', 'UND',...   \n",
       "1    ['Gesundheit', 'Gesund', 'werden', '?', 'gesun...   \n",
       "2    ['TRANSIT', '.', 'DAS', 'ERBE', '.', 'Der', 'z...   \n",
       "3    ['Hallo', '?', '@GuyVerhofstadt', 'fordert', '...   \n",
       "4    ['Finanzplatz', '1.', 'Die', 'Schweiz', 'ist',...   \n",
       "..                                                 ...   \n",
       "557  ['#', 'Asyl', 'Das', 'Grundgesetz', 'ist', 'di...   \n",
       "558  ['BUeNDNIS', '90DIE', 'GRUeNEN', '41113.1994',...   \n",
       "559  ['Hinweisen', 'auf', 'Vorfälle', 'im', 'Apothe...   \n",
       "560  ['my', 'highlight', 'at', '#', 'hsgforum', 'so...   \n",
       "561  ['Zeit', 'für', 'einen', 'Kanzlerwechsel', 'Wi...   \n",
       "\n",
       "                                        wording_tokens  \n",
       "0            ['Wir', 'werden', 'dafür', 'sorgen', ',']  \n",
       "1    ['Für', 'uns', 'Christdemokraten', 'steht', 'd...  \n",
       "2    ['Darüber', 'hinaus', 'wurde', 'vom', 'Verkehr...  \n",
       "3                                   ['GuyVerhofstadt']  \n",
       "4                 ['Die', 'SVP', 'ist', 'über', 'die']  \n",
       "..                                                 ...  \n",
       "557  ['Wir', 'brauchen', 'mehr', '<', 'ORD:65412>An...  \n",
       "558     ['BÜNDNIS', '90DIE', 'GRÜNEN', 'treten', 'zu']  \n",
       "559  ['Datenmissbrauch-Skandal', ':', 'Lugar', 'for...  \n",
       "560                                    ['wüstenhagen']  \n",
       "561  ['Michael', 'Spindelegger', 'ist', 'die', 'bes...  \n",
       "\n",
       "[562 rows x 185 columns]"
      ]
     },
     "execution_count": 5,
     "metadata": {},
     "output_type": "execute_result"
    }
   ],
   "source": [
    "non_train"
   ]
  },
  {
   "cell_type": "code",
   "execution_count": null,
   "metadata": {},
   "outputs": [],
   "source": [
    "non_train.sample_type\n"
   ]
  }
 ],
 "metadata": {
  "kernelspec": {
   "display_name": "Python 3",
   "language": "python",
   "name": "python3"
  },
  "language_info": {
   "codemirror_mode": {
    "name": "ipython",
    "version": 3
   },
   "file_extension": ".py",
   "mimetype": "text/x-python",
   "name": "python",
   "nbconvert_exporter": "python",
   "pygments_lexer": "ipython3",
   "version": "3.8.5"
  }
 },
 "nbformat": 4,
 "nbformat_minor": 4
}
